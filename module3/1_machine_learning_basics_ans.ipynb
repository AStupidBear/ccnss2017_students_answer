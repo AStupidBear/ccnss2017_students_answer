{
 "cells": [
  {
   "cell_type": "markdown",
   "metadata": {},
   "source": [
    "## Recurrence, Depth and High-dimensional data\n",
    "# Machine learning basics notebook"
   ]
  },
  {
   "cell_type": "markdown",
   "metadata": {},
   "source": [
    "In this notebook we present basic methods to train and evaluate the performance of machine learning models. In order to keeps things simple, we'll use a simple linear model, called *polynomial regression*, to fit data that was generated synthetically.\n",
    "\n",
    "The following elements will be presented:\n",
    "\n",
    "* polynomial regression\n",
    "* train and test sets\n",
    "* train and validation loss\n",
    "* cross-validation for model comparison\n",
    "* regularization by dataset size"
   ]
  },
  {
   "cell_type": "markdown",
   "metadata": {},
   "source": [
    "**References:**\n",
    "* [Pattern recognition and machine learning](http://www.springer.com/gp/book/9780387310732), chapter 1, Bishop, Christopher M, springer, 2006."
   ]
  },
  {
   "cell_type": "markdown",
   "metadata": {},
   "source": [
    "*Please execute the cell bellow in order to initialize the notebook environment*"
   ]
  },
  {
   "cell_type": "code",
   "execution_count": 1,
   "metadata": {},
   "outputs": [
    {
     "data": {
      "application/javascript": [
       "IPython.notebook.set_autosave_interval(0)"
      ]
     },
     "metadata": {},
     "output_type": "display_data"
    },
    {
     "name": "stdout",
     "output_type": "stream",
     "text": [
      "Autosave disabled\n"
     ]
    }
   ],
   "source": [
    "%autosave 0\n",
    "%matplotlib inline\n",
    "# %matplotlib notebook\n",
    "\n",
    "from __future__ import division\n",
    "import numpy as np\n",
    "import matplotlib.pyplot as plt\n",
    "import matplotlib.gridspec as gridspec\n",
    "import mod3\n",
    "\n",
    "plt.rcParams.update({'figure.figsize': (5.0, 4.0), 'lines.linewidth': 2.0})"
   ]
  },
  {
   "cell_type": "markdown",
   "metadata": {},
   "source": [
    "## Polynomial regression"
   ]
  },
  {
   "cell_type": "markdown",
   "metadata": {},
   "source": [
    "Suppose a process generated $n$ data points $\\mathcal{D}=\\{(x_1,y_1),\\ldots,(x_n,y_n)\\}$, where each $y_i$ is a function of $x_i$ and noise $\\xi_i$. We write $y_i=f(x_i, \\xi_i)$ for the unknown function $f()$ that models the response of the process, and the goal is to estimate $\\hat{y}$ for any value of $x$.\n",
    "\n",
    "Polynomial regression assumes the data generation process can be modeled as polynomial of $x$ with an additive noise term $\\xi$. For a polynomial of degree $p$ this is written as:\n",
    "$$\n",
    "y = w_0 + w_1 x + w_2 x^2 + w_3 x^3 + \\cdots + w_p x^p + \\xi \n",
    "$$\n",
    "\n",
    "For all data points in $\\mathcal{D}$, this can be written as a system of linear equations:\n",
    "\n",
    "$$\n",
    "{\\begin{bmatrix}y_{1}\\\\y_{2}\\\\y_{3}\\\\\\vdots \\\\y_{n}\\end{bmatrix}}={\\begin{bmatrix}1&x_{1}&x_{1}^{2}&\\dots &x_{1}^{p}\\\\1&x_{2}&x_{2}^{2}&\\dots &x_{2}^{p}\\\\1&x_{3}&x_{3}^{2}&\\dots &x_{3}^{p}\\\\\\vdots &\\vdots &\\vdots &&\\vdots \\\\1&x_{n}&x_{n}^{2}&\\dots &x_{n}^{p}\\end{bmatrix}}{\\begin{bmatrix}w_{0}\\\\w_{1}\\\\w_{2}\\\\\\vdots \\\\w_{p}\\end{bmatrix}}+{\\begin{bmatrix}\\xi _{1}\\\\\\xi _{2}\\\\\\xi _{3}\\\\\\vdots \\\\\\xi _{n}\\end{bmatrix}}\n",
    "$$\n",
    "\n",
    "This can be written in matrix notation as $\\mathbf{y}=\\mathbf{X}\\mathbf{w}+\\boldsymbol{\\xi}$, where $\\mathbf{y}$ and $\\boldsymbol{\\xi}$ are $n×1$ vectors, $\\mathbf{X}$ is an $n×p$ matrix, and $\\mathbf{w}$ is a $p×1$ vector of unknown parameters. The matrix $\\mathbf{X}$ is sometimes called the *design matrix*.\n",
    "\n",
    "The ordinary least squares (OLS) solution minimizes the sum of squared residuals \n",
    "\n",
    "$$C(\\mathcal{D},\\mathbf{w})=\\frac{1}{2n}\\sum _{i=1}^{n}(y_{i}-\\mathbf{x}_{i}^{T}\\mathbf{w})^{2}=(\\mathbf{y}-\\mathbf{X}\\mathbf{w})^{T}(\\mathbf{y}-\\mathbf{X}\\mathbf{w}),\n",
    "$$\n",
    "\n",
    "and is given by:\n",
    "\n",
    "$$\n",
    "\\widehat{\\mathbf{w}}_{OLS}=(\\mathbf{X}^{T}\\mathbf{X})^{-1}\\;\\mathbf{X}^{T}\\mathbf{y}\n",
    "$$\n",
    "\n",
    "In this notebook, we'll use polynomial regression models to investigate properties and methods that are relevant to more advanced machine learning models. A function implementing the OLS solution is provided as `mod3.ols(x, y, p=1)` from the module `mod3`."
   ]
  },
  {
   "cell_type": "markdown",
   "metadata": {},
   "source": [
    "**EXERCISE 1**\n",
    "\n",
    "The data $\\mathcal{D}=\\{(x_1,y_1),\\ldots,(x_n,y_n)\\}$ will be generated with the following procedure:\n",
    "\n",
    "* $x$ is sampled uniformly in the interval $[a,b]$, i.e. $x\\sim U(a,b)$\n",
    "* $\\xi$ is sampled as zero mean gaussian noise, i.e. $\\xi\\sim\\mathcal{N}(0, \\sigma^2)$\n",
    "* the dependent variable $y_i$ is obtained as a sinusoidal function of $x_i$ with additive noise $y_i=f(x_i, \\xi_i)=\\sin(2\\pi x_i) + \\xi_i$\n",
    "\n",
    "Write a function that returns $n$ values of $x$ and $y$ given the dataset size $n$ and noise parameters $a$, $b$ and $\\sigma$, i.e.\n",
    "```\n",
    "x, y = generate_data(n, a, b, sigma)\n",
    "```\n",
    "\n",
    "The function $f(\\mathbf{x}, \\boldsymbol{\\xi})$ is implemented as follows:\n",
    "```\n",
    "def f(x, xi=0):\n",
    "    return np.sin(2*np.pi*x) + xi\n",
    "```\n",
    "**INSTRUCTIONS**\n",
    "* use parameters $n=50000$, $a=0$, $b=1$ and $sigma=0.1$\n",
    "* write the function `f(x, xi=0)` as shown above\n",
    "* write the function `generate_data(n, a, b, sigma)`\n",
    "* generate the dataset and plot histograms of Numpy arrays `x` and `y`"
   ]
  },
  {
   "cell_type": "code",
<<<<<<< HEAD:module3/1_machine_learning_basics.ipynb
   "execution_count": 2,
   "metadata": {
    "collapsed": true
   },
   "outputs": [],
   "source": [
    "def f(x, xi = 0):\n",
    "    y = np.sin(2 * np.pi * x) + xi\n",
    "    return y\n",
    "\n",
    "def generate_data(n, a, b, sigma):\n",
    "    x = np.random.uniform(a, b, n)\n",
    "    xi = sigma * np.random.randn(*np.shape(x))\n",
    "    y = f(x, xi = xi)\n",
    "    return (x, y)"
   ]
  },
  {
   "cell_type": "code",
   "execution_count": 3,
   "metadata": {
    "collapsed": true
   },
   "outputs": [],
   "source": [
    "x, y = generate_data(50000, 0, 1, 0.1)"
   ]
  },
  {
   "cell_type": "code",
   "execution_count": 4,
   "metadata": {},
   "outputs": [
    {
     "data": {
      "image/png": "iVBORw0KGgoAAAANSUhEUgAAAoAAAAEYCAYAAADMEEeQAAAABHNCSVQICAgIfAhkiAAAAAlwSFlz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\nAAAAAElFTkSuQmCC\n",
      "text/plain": [
       "<matplotlib.figure.Figure at 0x7fb58ee2a6d0>"
      ]
     },
     "metadata": {},
     "output_type": "display_data"
    }
   ],
   "source": [
    "plt.figure(figsize=(9, 4))\n",
    "gs = gridspec.GridSpec(1, 2)\n",
    "plt.subplot(gs[0])\n",
    "plt.hist(x, bins = 100)\n",
    "plt.title(\"Histogram of x\")\n",
    "plt.subplot(gs[1])\n",
    "plt.hist(y, bins = 100)\n",
    "plt.title(\"Histogram of y\")\n",
    "plt.tight_layout()\n",
    "plt.show()"
   ]
  },
  {
=======
   "execution_count": null,
   "metadata": {},
   "outputs": [],
   "source": [
    "# sinusoidal signal + noise\n",
    "\n",
    "def f(x, xi=0):\n",
    "    \n",
    "    return np.sin(2*np.pi*x) + xi\n",
    "\n",
    "def generate_data(n, a, b, sigma):\n",
    "    \n",
    "    x = a + (b-a)*np.random.rand(n)\n",
    "    xi = sigma*np.random.randn(n)\n",
    "    \n",
    "    y = f(x, xi=xi)\n",
    "    \n",
    "    return (x, y)\n",
    "\n",
    "n = 50000\n",
    "a = 0\n",
    "b = 1\n",
    "sigma = 0.1\n",
    "\n",
    "x, y = generate_data(n, a, b, sigma)\n",
    "\n",
    "gs = gridspec.GridSpec(1, 2)\n",
    "\n",
    "plt.figure(figsize=(9, 4))\n",
    "\n",
    "plt.subplot(gs[0])\n",
    "plt.hist(x.flatten(), bins=64)\n",
    "plt.title('Histogram of x')\n",
    "\n",
    "plt.subplot(gs[1])\n",
    "plt.hist(y.flatten(), bins=64)\n",
    "plt.title('Histogram of y')\n",
    "\n",
    "plt.tight_layout()\n",
    "plt.show()"
   ]
  },
  {
>>>>>>> 46271614bb4010fde40bc69e91d57f474e5f395b:module3/1_machine_learning_basics_ans.ipynb
   "cell_type": "markdown",
   "metadata": {},
   "source": [
    "**EXPECTED OUTPUT**\n",
    "\n",
    "<img src=\"fig/poly_fit_histogram.png\" style=\"width:90%;height:90%;display:inline;margin:1px\">"
   ]
  },
  {
   "cell_type": "markdown",
   "metadata": {},
   "source": [
    "**EXERCISE 2**\n",
    "\n",
    "Generate a dataset $\\mathcal{D}=\\{\\mathbf{x}, \\mathbf{y}\\}$, and visualise with the data generating function with zero noise term, i.e. $f(x, \\xi=0)$.\n",
    "\n",
    "**INSTRUCTIONS**\n",
    "* generate a dataset with $n=25$, $a=0$, $b=1$ and $\\sigma=0.3$\n",
    "* plot the dataset and underlying data generating function noise term equal to 0"
   ]
  },
  {
   "cell_type": "code",
<<<<<<< HEAD:module3/1_machine_learning_basics.ipynb
   "execution_count": 5,
   "metadata": {},
   "outputs": [
    {
     "data": {
      "image/png": "iVBORw0KGgoAAAANSUhEUgAAAUgAAAD8CAYAAAAVOD3kAAAABHNCSVQICAgIfAhkiAAAAAlwSFlz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\n",
      "text/plain": [
       "<matplotlib.figure.Figure at 0x7fb58ba0df10>"
      ]
     },
     "metadata": {},
     "output_type": "display_data"
    }
   ],
   "source": [
    "plt.figure()\n",
    "x, y = generate_data(25, 0, 1, 0.3)\n",
    "plt.plot(x, y, \"o\", color = \"gray\", alpha = 0.2)\n",
    "x = np.linspace(0, 1, 100)\n",
    "y = f(x)\n",
    "plt.plot(x, y, \"g\")\n",
=======
   "execution_count": null,
   "metadata": {},
   "outputs": [],
   "source": [
    "# sinusoidal signal + noise\n",
    "\n",
    "# data params\n",
    "n = 25\n",
    "a, b = (0, 1)\n",
    "sigma = 0.3\n",
    "\n",
    "# generate data\n",
    "x, y = generate_data(n, a, b , sigma)\n",
    "\n",
    "# plot data\n",
    "x_range = np.linspace(a-0.1*(b-a), b+0.1*(b-a), num=500)\n",
    "\n",
    "plt.figure()\n",
    "plt.plot(x_range, f(x_range), 'C2')\n",
    "mod3.plot_data(x, y)\n",
    "\n",
    "plt.tight_layout()\n",
>>>>>>> 46271614bb4010fde40bc69e91d57f474e5f395b:module3/1_machine_learning_basics_ans.ipynb
    "plt.show()"
   ]
  },
  {
   "cell_type": "markdown",
   "metadata": {},
   "source": [
    "**EXPECTED OUTPUT**\n",
    "\n",
    "<img src=\"fig/poly_fit_sample.png\" style=\"width:50%;height:50%;display:inline;margin:1px\">"
   ]
  },
  {
   "cell_type": "markdown",
   "metadata": {},
   "source": [
    "## Polynomial regression"
   ]
  },
  {
   "cell_type": "markdown",
   "metadata": {},
   "source": [
    "**EXERCISE 3**\n",
    "\n",
    "Write a function `g(x, w)` that implements the polynomial model \n",
    "$$\\mathbf{y}=\\mathbf{X}\\mathbf{w}$$\n",
    "for design matrix $\\mathbf{X}$ and weights vector $\\mathbf{w}$.\n",
    "\n",
    "Write a function `loss(x, y, w)` that implements the loss function \n",
    "$$C(\\mathcal{D},\\mathbf{w})=\\frac{1}{2n}\\sum _{i=1}^{n}(\\mathbf{x}_{i}^{T}\\mathbf{w}-y_{i})^{2}$$\n",
    "where $\\mathbf{x}_{i}^{T}$ is a row vector of $\\mathbf{X}$, i.e. a vector containing the $p$ powers of $x_i$.\n",
    "\n",
    "**INSTRUCTIONS**\n",
    "* write the function g(x, w)\n",
    "* write the function loss(x, y, w)\n",
    "* validate by executing the code below:\n",
    "\n",
    "```\n",
    "x = np.array([1.5, 5.3, 3.9, 9.4, 5.5])\n",
    "y = np.array([4.4, 2.8, 6.1, 7.5, 2.3])\n",
    "w = np.array([[0.7],\n",
    "              [0.8],\n",
    "              [0.9]])\n",
    "\n",
    "print g(x, w)\n",
    "print loss(x, y, w)\n",
    "```"
   ]
  },
  {
   "cell_type": "code",
<<<<<<< HEAD:module3/1_machine_learning_basics.ipynb
   "execution_count": 6,
   "metadata": {
    "collapsed": true
   },
   "outputs": [],
   "source": [
    "def g(x, w):\n",
    "    p = len(w) - 1\n",
    "    X = np.empty((len(x), p + 1))\n",
    "    for i in range(p + 1): \n",
    "        X[:, i] = x**i\n",
    "    y = np.dot(X, w).squeeze()\n",
    "    return y\n",
    "\n",
    "def loss(x, y, w):\n",
    "    l = 0.5 * np.mean((y - g(x, w))**2)\n",
    "    return l"
   ]
  },
  {
   "cell_type": "code",
   "execution_count": 7,
   "metadata": {},
   "outputs": [
    {
     "name": "stdout",
     "output_type": "stream",
     "text": [
      "[  3.925  30.221  17.509  87.744  32.325]\n",
      "822.2902308\n"
     ]
    }
   ],
   "source": [
    "x = np.array([1.5, 5.3, 3.9, 9.4, 5.5])\n",
    "y = np.array([4.4, 2.8, 6.1, 7.5, 2.3])\n",
    "w = np.array([[0.7],\n",
    "              [0.8],\n",
    "              [0.9]])\n",
    "\n",
    "print g(x, w)\n",
    "print loss(x, y, w)"
   ]
  },
  {
=======
   "execution_count": null,
   "metadata": {},
   "outputs": [],
   "source": [
    "def g(x, w):\n",
    "    \n",
    "    X = np.zeros((len(x), len(w)))\n",
    "    for i in range(len(w)): \n",
    "        X[:,i] = x**i\n",
    "        \n",
    "    return np.sum(np.dot(X, w), axis=1)\n",
    "\n",
    "def loss(x, y, w):\n",
    "    \n",
    "    return 0.5/len(x)*np.sum((g(x, w)-y)**2)\n",
    "\n",
    "x = np.array([1.5, 5.3, 3.9, 9.4, 5.5])\n",
    "y = np.array([4.4, 2.8, 6.1, 7.5, 2.3])\n",
    "w = np.array([[0.7],\n",
    "              [0.8],\n",
    "              [0.9]])\n",
    "\n",
    "print g(x, w)\n",
    "print loss(x, y, w)"
   ]
  },
  {
>>>>>>> 46271614bb4010fde40bc69e91d57f474e5f395b:module3/1_machine_learning_basics_ans.ipynb
   "cell_type": "markdown",
   "metadata": {},
   "source": [
    "**EXPECTED OUTPUT**\n",
    "```\n",
    "[  3.925  30.221  17.509  87.744  32.325]\n",
    "822.2902308\n",
    "```"
   ]
  },
  {
   "cell_type": "markdown",
   "metadata": {},
   "source": [
    "**EXERCISE 4**\n",
    "Fit a polynomial to the generated data, and compare it with the data generating function.\n",
    "\n",
    "**INSTRUCTIONS**\n",
    "* generate a dataset with $n=25$, $a=0$, $b=1$ and $\\sigma=0.3$\n",
    "* fit a polynomial of degree $p=4$ to the training data using the function `mod3.ols(x, y, p=deg)`\n",
    "* plot the generated data, the polynomial and the weights\n",
    "* you may use the function `mod3.plot_bars` to plot bars representing the weight values\n",
    "\n",
    "```\n",
    "mod3.plot_bars(w_ols, title='Weights', ax_labels=('idx', 'w'))```"
   ]
  },
  {
   "cell_type": "code",
   "execution_count": 8,
   "metadata": {
    "scrolled": false
   },
<<<<<<< HEAD:module3/1_machine_learning_basics.ipynb
   "outputs": [
    {
     "data": {
      "image/png": "iVBORw0KGgoAAAANSUhEUgAAAoAAAAEYCAYAAADMEEeQAAAABHNCSVQICAgIfAhkiAAAAAlwSFlz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\nZmZmVmH+H1cR37eMO6WTAAAAAElFTkSuQmCC\n",
      "text/plain": [
       "<matplotlib.figure.Figure at 0x7fb58b8973d0>"
      ]
     },
     "metadata": {},
     "output_type": "display_data"
    }
   ],
   "source": [
    "plt.figure(figsize=(9, 4))\n",
    "\n",
    "gs = gridspec.GridSpec(1, 2)\n",
    "\n",
    "plt.subplot(gs[0])\n",
    "\n",
    "x = np.linspace(0, 1, 100)\n",
    "y = f(x)\n",
    "plt.plot(x, y, color = \"blue\", label = \"true function\")\n",
    "\n",
    "x, y = generate_data(50, 0, 1, 0.3)\n",
    "plt.plot(x, y, \"o\", color = \"gray\", label = \"data\")\n",
    "\n",
    "w_ols = mod3.ols(x, y, p = 4)\n",
    "x = np.linspace(0, 1, 100)\n",
    "y = g(x, w_ols)\n",
    "plt.plot(x, y, color = \"green\", label = \"polyfit\")\n",
    "\n",
    "# plt.xlabel(\"x\")\n",
    "# plt.ylabel(\"y\")\n",
    "plt.legend()\n",
    "plt.title(\"Polynomial fit\")\n",
    "\n",
    "plt.subplot(gs[1])\n",
    "mod3.plot_bars(w_ols.reshape(-1), title='Weights', ax_labels=('idx', 'w'))\n",
=======
   "outputs": [],
   "source": [
    "# polynomial regression\n",
    "\n",
    "reload(mod3)\n",
    "\n",
    "# data params\n",
    "n = 25\n",
    "a, b = (0, 1)\n",
    "sigma = 0.3\n",
    "\n",
    "# generate data\n",
    "x, y = generate_data(n, a, b , sigma)\n",
    "\n",
    "deg = 4\n",
    "\n",
    "w_ols = mod3.ols(x, y, p=deg)\n",
    "\n",
    "x_range_ext = np.linspace(a-0.5*(b-a), b+0.5*(b-a), num=500)\n",
    "\n",
    "gs = gridspec.GridSpec(1, 3)\n",
    "\n",
    "plt.figure(figsize=(9, 3))\n",
    "\n",
    "plt.subplot(gs[0])\n",
    "plt.plot(x_range, g(x_range, w_ols), alpha=0.8, label='poly'+str())\n",
    "mod3.plot_data(x, y, title='Polynomial fit')\n",
    "\n",
    "plt.subplot(gs[1])\n",
    "plt.plot(x_range_ext, f(x_range_ext), 'C2', alpha=0.8)\n",
    "plt.plot(x_range_ext, g(x_range_ext, w_ols), alpha=0.8, label='poly'+str())\n",
    "mod3.plot_data(x, y, title='Polynomial fit')\n",
    "plt.xlim([x_range_ext[0], x_range_ext[-1]])\n",
    "\n",
    "plt.subplot(gs[2])\n",
    "mod3.plot_bars(w_ols, title='Weights', ax_labels=('idx', 'w'))\n",
>>>>>>> 46271614bb4010fde40bc69e91d57f474e5f395b:module3/1_machine_learning_basics_ans.ipynb
    "\n",
    "plt.tight_layout()\n",
    "plt.show()"
   ]
  },
  {
   "cell_type": "markdown",
   "metadata": {},
   "source": [
    "**EXPECTED OUTPUT**\n",
    "\n",
    "<img src=\"fig/poly_fit_weigths.png\" style=\"display:inline;margin:1px\">"
   ]
  },
  {
   "cell_type": "markdown",
   "metadata": {},
   "source": [
    "**EXERCISE 5**\n",
    "\n",
    "A polynomial of degree $p$ can perfectly fit a dataset with $p+1$ elements.\n",
    "\n",
    "**INSTRUCTIONS**\n",
    "* generate a train set of size $n=4$, $a=0$, $b=1$ and $\\sigma=0.1$\n",
    "* train and test polynomials of degree up to $p=6$\n",
    "* plot the train loss for each polynomial degree"
   ]
  },
  {
   "cell_type": "code",
<<<<<<< HEAD:module3/1_machine_learning_basics.ipynb
   "execution_count": 9,
   "metadata": {},
   "outputs": [
    {
     "data": {
      "image/png": "iVBORw0KGgoAAAANSUhEUgAAA18AAAGoCAYAAAC5Tl/hAAAABHNCSVQICAgIfAhkiAAAAAlwSFlz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\nYqDGl4iIiIiISAzU+BIREREREYnB/wPe6aSyNXPhgAAAAABJRU5ErkJggg==\n",
      "text/plain": [
       "<matplotlib.figure.Figure at 0x7fb58b7e8290>"
      ]
     },
     "metadata": {},
     "output_type": "display_data"
    }
   ],
   "source": [
    "plt.figure(figsize=(12, 6))\n",
    "\n",
    "x, y = generate_data(4, 0, 1, 0.1)\n",
    "\n",
    "gs = gridspec.GridSpec(2, 3)\n",
    "\n",
    "for p in range(6):\n",
    "    w_ols = mod3.ols(x, y, p = p)\n",
    "    plt.subplot(gs[p])\n",
    "    plt.plot(x, y, \"o\", color = \"gray\")\n",
    "    x1 = np.linspace(0, 1, 100)\n",
    "    y1 = g(x1, w_ols)\n",
    "    plt.plot(x1, y1, color = \"blue\")\n",
    "    plt.title(\"Loss deg %d: %g\" % (p, loss(x, y, w_ols)))\n",
    "    plt.axis(\"tight\")\n",
    "\n",
=======
   "execution_count": null,
   "metadata": {},
   "outputs": [],
   "source": [
    "# expressive power of polynomials\n",
    "\n",
    "# data params\n",
    "n = 4\n",
    "a, b  = (0, 1)\n",
    "sigma = 0.1                                   \n",
    "deg_range = range(6)\n",
    "\n",
    "# generate data\n",
    "x_train, y_train = generate_data(n, a, b , sigma)\n",
    "\n",
    "# multiple polynomial fits\n",
    "\n",
    "gs = gridspec.GridSpec(2, 3)\n",
    "\n",
    "plt.figure(figsize=(9, 6))\n",
    "\n",
    "for idx, deg in enumerate(deg_range):\n",
    "\n",
    "    w_ols = mod3.ols(x_train, y_train, p=deg)\n",
    "    \n",
    "    loss_train = np.sqrt(2*loss(x_train, y_train, w_ols))\n",
    "    \n",
    "    plt.subplot(gs[idx])\n",
    "    plt.plot(x_range, g(x_range, w_ols))\n",
    "    mod3.plot_data(x_train, y_train, title='Polynomial fit')\n",
    "    plt.title('Loss deg '+str(deg)+': '+format(loss_train, '.3f'))\n",
    "    plt.xlim([x_range[0], x_range[-1]])\n",
    "    plt.ylim([-2, 2])\n",
    "    \n",
>>>>>>> 46271614bb4010fde40bc69e91d57f474e5f395b:module3/1_machine_learning_basics_ans.ipynb
    "plt.tight_layout()\n",
    "plt.show()"
   ]
  },
  {
   "cell_type": "markdown",
   "metadata": {},
   "source": [
    "**EXPECTED OUTPUT**\n",
    "\n",
    "<img src=\"fig/poly_fit_deg_many.png\" style=\"width:100%;height:100%;display:inline;margin:1px\">"
   ]
  },
  {
   "cell_type": "markdown",
   "metadata": {},
   "source": [
    "**EXERCISE 6**\n",
    "\n",
    "A polynomial of degree $p$ can perfectly fit a dataset with $p+1$ elements, but in this case it is likely to be fitting the data, rather than the process generating the data, i.e. it is *overfitting*. Model overfitting can be detected by good performance on the train set and much worse performance on the test set.\n",
    "\n",
    "**INSTRUCTIONS**\n",
    "* generate a train set of size $n=10$, $a=0$, $b=1$ and $\\sigma=0.1$\n",
    "* generate a test set of size $n=2000$\n",
    "* train and test polynomials of degree up to $p=10$\n",
    "* plot the train and test loss for each polynomial degree"
   ]
  },
  {
   "cell_type": "code",
   "execution_count": 10,
   "metadata": {
    "scrolled": false
   },
<<<<<<< HEAD:module3/1_machine_learning_basics.ipynb
   "outputs": [
    {
     "data": {
      "text/plain": [
       "<matplotlib.text.Text at 0x7fb54be594d0>"
      ]
     },
     "execution_count": 10,
     "metadata": {},
     "output_type": "execute_result"
    },
    {
     "data": {
      "image/png": "iVBORw0KGgoAAAANSUhEUgAAAZUAAAEWCAYAAACufwpNAAAABHNCSVQICAgIfAhkiAAAAAlwSFlz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\nqZiZWdk4qZiZWdk4qZiZWdn8f5q3Mw3ycY9fAAAAAElFTkSuQmCC\n",
      "text/plain": [
       "<matplotlib.figure.Figure at 0x7fb58ee2a2d0>"
      ]
     },
     "metadata": {},
     "output_type": "display_data"
    }
   ],
   "source": [
    "xtrn, ytrn = generate_data(10, 0, 1, 0.1)\n",
    "xtst, ytst = generate_data(2000, 0, 1, 0.1)\n",
    "\n",
    "loss_trn, loss_tst = [], []\n",
    "\n",
    "for p in range(10):\n",
    "    w = mod3.ols(xtrn, ytrn, p = p)\n",
    "    loss_trn.append(loss(xtrn, ytrn, w))\n",
    "    loss_tst.append(loss(xtst, ytst, w))\n",
    "\n",
    "plt.figure(figsize=(6, 4))\n",
    "\n",
    "plt.plot(loss_trn, label = \"train\")\n",
    "plt.plot(loss_tst, label = \"test\")\n",
    "plt.xlabel(\"Degree\")\n",
    "plt.ylabel(\"Sqrt Loss\")\n",
    "plt.title(\"Sqrt Loss vs Polynomial Degree\")"
=======
   "outputs": [],
   "source": [
    "# train and test sets\n",
    "\n",
    "# data params\n",
    "n = 10\n",
    "n_test = 2000\n",
    "a, b  = (0, 1)\n",
    "sigma = 0.1                                   \n",
    "deg_range = range(10)\n",
    "\n",
    "# generate data\n",
    "x_train, y_train = generate_data(n, a, b , sigma)\n",
    "x_test, y_test = generate_data(n_test, a, b , sigma)\n",
    "\n",
    "loss_train = []\n",
    "loss_test = []\n",
    "for deg in deg_range:\n",
    "\n",
    "    w_ols = mod3.ols(x_train, y_train, p=deg)\n",
    "    \n",
    "    loss_train += [np.sqrt(2*loss(x_train, y_train, w_ols))]\n",
    "    loss_test += [np.sqrt(2*loss(x_test, y_test, w_ols))]\n",
    "\n",
    "plt.figure()\n",
    "plt.plot(deg_range, loss_train, label='train')\n",
    "plt.plot(deg_range, loss_test, label='test')\n",
    "plt.title('Sqrt Loss vs polynomial degree')\n",
    "plt.xlabel('Degree')\n",
    "plt.ylabel('Sqrt loss')\n",
    "plt.legend()\n",
    "# plt.ylim([0, 2])\n",
    "\n",
    "plt.tight_layout()\n",
    "plt.show()"
>>>>>>> 46271614bb4010fde40bc69e91d57f474e5f395b:module3/1_machine_learning_basics_ans.ipynb
   ]
  },
  {
   "cell_type": "markdown",
   "metadata": {},
   "source": [
    "**EXPECTED OUTPUT**\n",
    "\n",
    "<img src=\"fig/poly_fit_train_test_1.png\" style=\"width: 450px;display:inline;margin:1px\"><img src=\"fig/poly_fit_train_test_2.png\" style=\"width: 450px;display:inline;margin:1px\">"
   ]
  },
  {
   "cell_type": "markdown",
   "metadata": {},
   "source": [
    "**EXERCISE 7**\n",
    "\n",
    "Cross-validation is a technique to compare between models with the available training data, by partitioning the original dataset into training and test sets, and *rotating* this partitioning. In $k$-fold cross-validation, the original dataset is randomly partitioned into k equal-sized subsets, enabling $k$ evaluations of the models under different partitions of train and test sets. The model with best mean performance and lowest standard deviation is selected.\n",
    "\n",
    "**INSTRUCTIONS**\n",
    "* generate a dataset of size $n=2500$, $a=0$, $b=1$ and $\\sigma=0.1$\n",
    "* partition the dataset into $k=10$ partitions\n",
    "* train and test a polynomial of degree $p=4$ to each partitioning of the dataset. For example, train on partitions 1 to 9, and test on partition 10, then train on partitions 2 to 10, and test on partition 1, etc. \n",
    "* plot the loss for each partitioning"
   ]
  },
  {
   "cell_type": "code",
<<<<<<< HEAD:module3/1_machine_learning_basics.ipynb
   "execution_count": 11,
   "metadata": {},
   "outputs": [
    {
     "data": {
      "text/plain": [
       "[<matplotlib.lines.Line2D at 0x7fb58b485890>]"
      ]
     },
     "execution_count": 11,
     "metadata": {},
     "output_type": "execute_result"
    },
    {
     "data": {
      "image/png": "iVBORw0KGgoAAAANSUhEUgAAAUgAAAD8CAYAAAAVOD3kAAAABHNCSVQICAgIfAhkiAAAAAlwSFlz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\nRU5ErkJggg==\n",
      "text/plain": [
       "<matplotlib.figure.Figure at 0x7fb58b5fe790>"
      ]
     },
     "metadata": {},
     "output_type": "display_data"
    }
   ],
   "source": [
    "xtrn, ytrn = generate_data(2000, 0, 1, 0.1)\n",
    "w = mod3.ols(xtrn, ytrn, p = 4)\n",
    "xtst, ytst = generate_data(1000, 0, 1, 0.1)\n",
    "loss(xtst, ytst, w)\n",
    "plt.plot(xtst, ytst, \"o\")\n",
    "plt.plot(xtrn, ytrn, \"o\")"
   ]
  },
  {
   "cell_type": "code",
   "execution_count": 17,
   "metadata": {},
   "outputs": [
    {
     "data": {
      "text/plain": [
       "<matplotlib.text.Text at 0x7fb54bf2dd10>"
      ]
     },
     "execution_count": 17,
     "metadata": {},
     "output_type": "execute_result"
    },
    {
     "data": {
      "image/png": "iVBORw0KGgoAAAANSUhEUgAAAVoAAAEWCAYAAAAny19hAAAABHNCSVQICAgIfAhkiAAAAAlwSFlz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\n",
      "text/plain": [
       "<matplotlib.figure.Figure at 0x7fb58ba384d0>"
      ]
     },
     "metadata": {},
     "output_type": "display_data"
    }
   ],
   "source": [
    "x, y = generate_data(2000, 0, 1, 0.1)\n",
    "x  = x.reshape(len(x) // 10, 10)\n",
    "y = y.reshape(len(y) // 10, 10)\n",
    "loss_per_fold = []\n",
    "\n",
    "for i in range(10):\n",
    "    idx_trn =  [idx for idx in range(10) if idx != i]\n",
    "    xtrn, ytrn = x[:, idx_trn].flatten(), y[:, idx_trn].flatten()\n",
    "    xtst, ytst = x[:, i], y[:, i]\n",
    "    w1 = mod3.ols(xtrn, ytrn, 1)\n",
    "    loss_per_fold.append(loss(xtst, ytst, w1))\n",
    "    \n",
    "plt.plot(loss_per_fold)\n",
    "plt.xlabel(\"Fold\")\n",
    "plt.ylabel(\"Loss\")\n",
    "plt.title(\"Loss per fold\")"
=======
   "execution_count": null,
   "metadata": {},
   "outputs": [],
   "source": [
    "# cross-validation\n",
    "\n",
    "# data params\n",
    "n = 2500\n",
    "a, b  = (0, 1)\n",
    "sigma = 0.1                                   \n",
    "k_fold = 10\n",
    "deg = 4\n",
    "    \n",
    "# generate data\n",
    "x_train, y_train = generate_data(n, a, b, sigma)\n",
    "\n",
    "k_size = int(n/k_fold)\n",
    "\n",
    "n_idx = range(n)\n",
    "loss_fold = []\n",
    "for test_idx in [n_idx[i:i+k_size] for i in xrange(0, n, k_size)]:\n",
    "\n",
    "    if len(test_idx)<20:\n",
    "        continue\n",
    "    \n",
    "    train_idx = [item for item in n_idx if item not in test_idx]\n",
    "    \n",
    "    (x_test_fold, y_test_fold) = (x_train[test_idx], y_train[test_idx])\n",
    "    (x_train_fold, y_train_fold) = (x_train[train_idx], y_train[train_idx])\n",
    "    \n",
    "    w_ols = mod3.ols(x_train_fold, y_train_fold, p=deg)\n",
    "    \n",
    "    loss_fold += [loss(x_test_fold, y_test_fold, w_ols)]\n",
    "\n",
    "plt.figure()\n",
    "plt.plot(range(len(loss_fold)), loss_fold)\n",
    "\n",
    "plt.ylim([0, max(loss_fold)*1.2])\n",
    "plt.title('Loss per fold')\n",
    "plt.xlabel('Fold')\n",
    "plt.ylabel('Loss')\n",
    "\n",
    "plt.tight_layout()\n",
    "plt.show()"
>>>>>>> 46271614bb4010fde40bc69e91d57f474e5f395b:module3/1_machine_learning_basics_ans.ipynb
   ]
  },
  {
   "cell_type": "markdown",
   "metadata": {},
   "source": [
    "**EXPECTED OUTPUT**\n",
    "\n",
    "<img src=\"fig/poly_fit_loss_fold.png\" style=\"width:50%;height:50%;display:inline;margin:1px\">"
   ]
  },
  {
   "cell_type": "markdown",
   "metadata": {},
   "source": [
    "**EXERCISE 8**\n",
    "\n",
    "\n",
    "Evaluate performance of different polynomial degrees under a small training set, by ploting the mean $\\mu$ and standard deviation $\\sigma$ of the loss (i.e. the rotated test loss).\n",
    "\n",
    "**INSTRUCTIONS**\n",
    "* generate a train set of size $n=100$, $a=0$, $b=1$ and $\\sigma=0.1$\n",
    "* fit polynomials of degree up to $p=10$\n",
    "* evaluate each model with $k=5$ cross-validation\n",
    "* plot the mean $\\mu$ and standard deviation $\\sigma$ for each polynomial degree"
   ]
  },
  {
   "cell_type": "code",
   "execution_count": 27,
   "metadata": {
    "collapsed": true
   },
   "outputs": [],
   "source": [
<<<<<<< HEAD:module3/1_machine_learning_basics.ipynb
    "def cross_validation(x, y, p = 4):\n",
    "    x  = x.reshape(len(x) // 10, 10)\n",
    "    y = x.reshape(len(y) // 10, 10)\n",
    "    loss_per_fold = []\n",
    "    for i in range(10):\n",
    "        index =  [idx for idx in range(10) if idx not in [i]]\n",
    "        xtrn, ytrn = x[:, index].reshape(-1), y[:, index].reshape(-1)\n",
    "        xtst, ytst = x[:, i], y[:, i]\n",
    "        w = mod3.ols(xtrn, ytrn, p)\n",
    "        loss_per_fold.append(loss(xtst, ytst, w))\n",
    "    return np.mean(loss_per_fold), np.std(loss_per_fold)  "
   ]
  },
  {
   "cell_type": "code",
   "execution_count": 28,
   "metadata": {},
   "outputs": [
    {
     "data": {
      "image/png": "iVBORw0KGgoAAAANSUhEUgAAAVQAAAEKCAYAAABNFq0yAAAABHNCSVQICAgIfAhkiAAAAAlwSFlz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\n",
      "text/plain": [
       "<matplotlib.figure.Figure at 0x7fd678042b90>"
      ]
     },
     "metadata": {},
     "output_type": "display_data"
    }
   ],
   "source": [
    "x, y = generate_data(100, 0, 1, 0.1)\n",
    "mus, sigmas = [], []\n",
    "\n",
    "for p in range(10):\n",
    "    mu, sigma = cross_validation(x, y, p)\n",
    "    mus.append(mu)\n",
    "    sigmas.append(sigma)\n",
    "\n",
    "mus, sigmas = np.array(mus), np.array(sigmas)\n",
    "plt.plot(mus, label = \"sqrt loss $\\mu$\")\n",
    "plt.fill_between(range(len(mus)), mus - sigmas, mus + sigmas, color = \"orange\", label = \"sqrt loss $\\mu\\pm\\sigma$\")\n",
    "plt.xlabel(\"Degree\")\n",
    "plt.ylabel(\"Sqrt Loss\")\n",
    "plt.legend()\n",
=======
    "# model comparison\n",
    "\n",
    "# data params\n",
    "n = 100\n",
    "n_test = 200\n",
    "a, b  = (0, 1)\n",
    "sigma = 0.1                                   \n",
    "deg_range = range(10)\n",
    "k_fold = 5\n",
    "k_size = int(n/k_fold)\n",
    "n_idx = range(n)\n",
    "\n",
    "\n",
    "# generate data\n",
    "x_train, y_train = generate_data(n, a, b , sigma)\n",
    "x_test, y_test = generate_data(n_test, a, b , sigma)\n",
    "\n",
    "loss_test_fold = np.zeros((len(deg_range), k_fold))\n",
    "for fold_idx, test_idx in enumerate([n_idx[i:i+k_size] for i in xrange(0, n, k_size)]):\n",
    "    \n",
    "    if len(test_idx)<20:\n",
    "        loss_test_fold = np.delete(x,(fold_idx), axis=1)\n",
    "        print 'deleted', fold_idx, loss_test_fold.shape\n",
    "        continue\n",
    "        \n",
    "    train_idx = [item for item in n_idx if item not in test_idx]\n",
    "    \n",
    "    (x_test_fold, y_test_fold) = (x_train[test_idx], y_train[test_idx])\n",
    "    (x_train_fold, y_train_fold) = (x_train[train_idx], y_train[train_idx])\n",
    "    \n",
    "    for deg_idx, deg in enumerate(deg_range):\n",
    "\n",
    "        w_ols = mod3.ols(x_train_fold, y_train_fold, p=deg)\n",
    "\n",
    "        loss_test_fold[deg_idx, fold_idx] = loss(x_test_fold, y_test_fold, w_ols)\n",
    "    \n",
    "loss_test_fold_mean = np.mean(loss_test_fold, axis=1)\n",
    "loss_test_fold_std = np.std(loss_test_fold, axis=1)\n",
    "\n",
    "plt.figure()\n",
    "plt.fill_between(deg_range, loss_test_fold_mean - loss_test_fold_std,\n",
    "                 loss_test_fold_mean + loss_test_fold_std, color='C1', label='sqrt loss $\\mu\\pm\\sigma$')\n",
    "plt.plot(deg_range, loss_test_fold_mean, label='sqrt loss $\\mu$')\n",
    "plt.plot(deg_range, loss_test_fold_mean, 'ko')\n",
    "\n",
    "plt.title('Sqrt Loss vs polynomial degree')\n",
    "plt.xlabel('Degree')\n",
    "plt.ylabel('Sqrt loss')\n",
    "plt.legend()\n",
    "# plt.ylim([0,0.03])\n",
    "\n",
    "plt.tight_layout()\n",
>>>>>>> 46271614bb4010fde40bc69e91d57f474e5f395b:module3/1_machine_learning_basics_ans.ipynb
    "plt.show()"
   ]
  },
  {
   "cell_type": "markdown",
   "metadata": {},
   "source": [
    "**EXPECTED OUTPUT**\n",
    "\n",
    "<img src=\"fig/poly_fit_deg_1.png\" style=\"width: 450px;display:inline;margin:1px\"><img src=\"fig/poly_fit_deg_2.png\" style=\"width: 450px;display:inline;margin:1px\">"
   ]
  },
  {
   "cell_type": "markdown",
   "metadata": {},
   "source": [
    "**EXERCISE 9**\n",
    "\n",
    "High degree polynomials have a tendency to wiggle very strongly when fitting small datasets. This is a sign of the model *overfitting* the data. Visualize this effect by varying dataset size $n$, and plotting the polynomial fit and weights.\n",
    "\n",
    "**INSTRUCTIONS**\n",
    "* generate diferent train sets of size $n\\in\\{10, 100, 1000\\}$, $a=0$, $b=1$ and $\\sigma=0.1$\n",
    "* fit a polynomial of degree $p=20$ to each train set\n",
    "* plot the polynomial fit for each dataset size $n$"
   ]
  },
  {
   "cell_type": "code",
<<<<<<< HEAD:module3/1_machine_learning_basics.ipynb
   "execution_count": 29,
   "metadata": {},
   "outputs": [
    {
     "data": {
      "image/png": "iVBORw0KGgoAAAANSUhEUgAAAoAAAAKACAYAAAAMzckjAAAABHNCSVQICAgIfAhkiAAAAAlwSFlz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\nzZm0AAAAAElFTkSuQmCC\n",
      "text/plain": [
       "<matplotlib.figure.Figure at 0x7fd67aa3fd90>"
      ]
     },
     "metadata": {},
     "output_type": "display_data"
    }
   ],
   "source": [
    "plt.figure(figsize=(9, 9))\n",
    "\n",
    "for (i, n) in enumerate([10, 100, 1000]):\n",
    "    x, y = generate_data(n, 0, 1, 0.1)\n",
    "    w = mod3.ols(x, y, 20)\n",
    "    x1 = np.linspace(-1, 1, 100)\n",
    "    y1 = g(x1, w)\n",
    "    \n",
    "    plt.subplot(3, 2, 2 * i + 1)\n",
    "    plt.plot(x, y, \"o\", color = \"gray\")\n",
    "    plt.plot(x1, y1, color = \"green\", label = \"polyfit\")\n",
    "    plt.xlabel(\"x\")\n",
    "    plt.ylabel(\"y\")\n",
    "    plt.title(\"Dataset n = %d\" % len(x))\n",
    "    plt.xlim((-1, 2))\n",
    "    plt.ylim((-2, 2))\n",
    "\n",
    "    plt.subplot(3, 2, 2 * i + 2)\n",
    "    mod3.plot_bars(w.reshape(-1), title='Weights', ax_labels=('idx', 'w'))\n",
    "\n",
=======
   "execution_count": null,
   "metadata": {
    "scrolled": false
   },
   "outputs": [],
   "source": [
    "# regularization by dataset size\n",
    "\n",
    "# data params\n",
    "n_range = (10, 100, 1000)\n",
    "a, b  = (0, 1)\n",
    "sigma = 0.1                                   \n",
    "deg = 20\n",
    "\n",
    "gs = gridspec.GridSpec(3, 2)\n",
    "\n",
    "plt.figure(figsize=(9, 9))\n",
    "\n",
    "for idx, n in enumerate(n_range):\n",
    "    \n",
    "    x_train, y_train = generate_data(n, a, b , sigma)\n",
    "\n",
    "    w_ols = mod3.ols(x_train, y_train, p=deg)\n",
    "\n",
    "    plt.subplot(gs[idx, 0])\n",
    "    title='Dataset n='+str(n)\n",
    "    mod3.plot_data(x_train, y_train, title=title)\n",
    "    plt.plot(x_range_ext, g(x_range_ext, w_ols), alpha=0.6)\n",
    "    plt.xlim([x_range_ext[0], x_range_ext[-1]])\n",
    "    plt.ylim([-2, 2])\n",
    "    \n",
    "    plt.subplot(gs[idx, 1])\n",
    "    mod3.plot_bars(w_ols, title='Weights', ax_labels=('idx', 'w'))\n",
    "    \n",
>>>>>>> 46271614bb4010fde40bc69e91d57f474e5f395b:module3/1_machine_learning_basics_ans.ipynb
    "plt.tight_layout()\n",
    "plt.show()"
   ]
  },
  {
   "cell_type": "markdown",
   "metadata": {},
   "source": [
    "**EXPECTED OUTPUT**\n",
    "\n",
    "<img src=\"fig/poly_fit_reg_data.png\" style=\"width:100%;height:100%;display:inline;margin:1px\">"
   ]
  },
  {
   "cell_type": "markdown",
   "metadata": {},
   "source": [
    "**EXERCISE 10**\n",
    "\n",
    "The plots of weight values from the previous question do not clearly show that dataset size has a regularizing effect on the norm of the weigths $\\mathbf{w}$. Investigate this question by plotting the mean $\\mu$ and standard deviation $\\sigma$ of the L2 norm of the weights, over $N$ relizations of the sampling and fitting process.\n",
    "\n",
    "**INSTRUCTIONS**\n",
    "* generate $N$ train sets of sizes $n\\in\\{10, 100, 1000, 10000\\}$, $a=0$, $b=1$ and $\\sigma=0.1$\n",
    "* fit a polynomial of degree $p=20$ to each train set\n",
    "* evaluate the mean $\\mu\\left(\\|W\\|^2\\right)$ and standard deviation $\\sigma\\left(\\|W\\|^2\\right)$ of the L2 norm for each train set size $n$\n",
    "* use function mod3.plot_bars to plot bars representing weight values\n",
    "* the L2 norm is available in Numpy as `np.linalg.norm`."
   ]
  },
  {
   "cell_type": "code",
<<<<<<< HEAD:module3/1_machine_learning_basics.ipynb
   "execution_count": 48,
   "metadata": {
    "collapsed": true
   },
   "outputs": [],
   "source": [
    "def l2(n):\n",
    "    x, y = generate_data(n, 0, 1, 0.1)\n",
    "    w = mod3.ols(x, y, 20)\n",
    "    return np.linalg.norm(w)"
   ]
  },
  {
   "cell_type": "code",
   "execution_count": 66,
   "metadata": {
    "collapsed": true
   },
   "outputs": [],
   "source": [
    "N = 1000\n",
    "datasize = [10, 100, 1000, 10000]\n",
    "mu = np.array([np.mean([l2(n) for i in range(N)]) for n in datasize])\n",
    "sigma = np.array([np.std([l2(n) for i in range(N)]) for n in datasize])"
   ]
  },
  {
   "cell_type": "code",
   "execution_count": 69,
   "metadata": {},
   "outputs": [
    {
     "data": {
      "text/plain": [
       "<matplotlib.text.Text at 0x7fd60736de90>"
      ]
     },
     "execution_count": 69,
     "metadata": {},
     "output_type": "execute_result"
    },
    {
     "data": {
      "image/png": "iVBORw0KGgoAAAANSUhEUgAAAVoAAAEaCAYAAABQCZ8aAAAABHNCSVQICAgIfAhkiAAAAAlwSFlz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\nAABJRU5ErkJggg==\n",
      "text/plain": [
       "<matplotlib.figure.Figure at 0x7fd6072bc390>"
      ]
     },
     "metadata": {},
     "output_type": "display_data"
    }
   ],
   "source": [
    "plt.plot(datasize, mu, label = \"$||W||^2\\mu$\")\n",
    "plt.fill_between(datasize, mu - sigma, mu + sigma, color = \"orange\", label = \"$||W||^2\\mu\\pm\\sigma$\")\n",
    "plt.ylabel(\"$||W||^2$\")\n",
    "plt.xlabel(\"N\")\n",
    "plt.xscale(\"log\")\n",
    "plt.yscale(\"log\")\n",
    "plt.legend()\n",
    "plt.title(\"Weight L2 Norm vs Dataset Size\")"
=======
   "execution_count": null,
   "metadata": {
    "scrolled": false
   },
   "outputs": [],
   "source": [
    "# regularization by dataset size - ensemble stats over many realizations\n",
    "\n",
    "# data params\n",
    "n_range = (10, 100, 1000, 10000)\n",
    "a, b  = (0, 1)\n",
    "sigma = 0.1                                   \n",
    "deg = 15\n",
    "N = 200\n",
    "\n",
    "norm = np.zeros((len(n_range), N))\n",
    "for idx, n in enumerate(n_range):\n",
    "    \n",
    "    for idx2 in enumerate(range(N)):\n",
    "        x_train, y_train = generate_data(n, a, b , sigma)\n",
    "        w_ols = mod3.ols(x_train, y_train, p=deg)\n",
    "        norm[idx, idx2]= np.linalg.norm(w_ols)\n",
    "\n",
    "norm_mean = np.mean(norm, axis=1)\n",
    "norm_std = np.std(norm, axis=1)\n",
    "\n",
    "plt.figure()\n",
    "plt.fill_between(n_range, norm_mean - norm_std,\n",
    "                 norm_mean + norm_std, color='C1', label='$\\|\\|W\\|\\|^2$ $\\mu\\pm\\sigma$')\n",
    "plt.plot(n_range, norm_mean, label='$\\|\\|W\\|\\|^2$ $\\mu$')\n",
    "plt.plot(n_range, norm_mean, 'ko')\n",
    "\n",
    "plt.gca().set_xscale('log')\n",
    "plt.gca().set_yscale('log')\n",
    "\n",
    "plt.title('Weights L2 norm vs dataset size')\n",
    "plt.xlabel('N')\n",
    "plt.ylabel('$\\|\\|W\\|\\|^2$')\n",
    "plt.legend()\n",
    "\n",
    "plt.tight_layout()\n",
    "plt.show()"
>>>>>>> 46271614bb4010fde40bc69e91d57f474e5f395b:module3/1_machine_learning_basics_ans.ipynb
   ]
  },
  {
   "cell_type": "markdown",
   "metadata": {},
   "source": [
    "**EXPECTED OUTPUT**\n",
    "\n",
    "<img src=\"fig/poly_fit_reg_data_stats.png\" style=\"width:50%;height:50%;display:inline;margin:1px\">"
   ]
  },
  {
   "cell_type": "markdown",
   "metadata": {},
   "source": [
    "**EXERCISE 11**\n",
    "\n",
    "Extend the range of $x$ to include a few full periods of the sinusoidal and examine its effect in optimal value(s) $p^*$ under a small training set.\n",
    "\n",
    "\n",
    "**INSTRUCTIONS**\n",
    "* generate a train set of size $n=100$, $a=-1$, $b=2$ and $\\sigma=0.3$\n",
    "* repeat the analysis from *Exercise 4*\n",
    "* repeat the analysis from *Exercise 8*"
   ]
  },
  {
   "cell_type": "code",
   "execution_count": null,
   "metadata": {},
   "outputs": [],
   "source": [
    "# polynomial regression\n",
    "\n",
    "reload(mod3)\n",
    "\n",
    "# data params\n",
    "n = 100\n",
    "a, b = (-1, 2)\n",
    "sigma = 0.1\n",
    "deg = 7\n",
    "\n",
    "# generate data\n",
    "x, y = generate_data(n, a, b , sigma)\n",
    "\n",
    "w_ols = mod3.ols(x, y, p=deg)\n",
    "\n",
    "x_range_bis = np.linspace(a-0.1*(b-a), b+0.1*(b-a), num=500)\n",
    "x_range_ext_bis = np.linspace(a-0.5*(b-a), b+0.5*(b-a), num=500)\n",
    "\n",
    "gs = gridspec.GridSpec(1, 3)\n",
    "\n",
    "plt.figure(figsize=(9, 3))\n",
    "\n",
    "plt.subplot(gs[0])\n",
    "plt.plot(x_range_bis, g(x_range_bis, w_ols), alpha=0.8, label='poly'+str())\n",
    "mod3.plot_data(x, y, title='Polynomial fit')\n",
    "\n",
    "plt.subplot(gs[1])\n",
    "plt.plot(x_range_ext_bis, f(x_range_ext_bis), 'C2', alpha=0.8)\n",
    "plt.plot(x_range_ext_bis, g(x_range_ext_bis, w_ols), alpha=0.8, label='poly'+str())\n",
    "mod3.plot_data(x, y, title='Polynomial fit')\n",
    "plt.xlim([x_range_ext_bis[0], x_range_ext_bis[-1]])\n",
    "\n",
    "plt.subplot(gs[2])\n",
    "mod3.plot_bars(w_ols, title='Weights', ax_labels=('idx', 'w'))\n",
    "\n",
    "plt.tight_layout()\n",
    "plt.show()\n",
    "\n",
    "# data params\n",
    "n = 100\n",
    "n_test = 200\n",
    "a, b = (-1, 2)\n",
    "sigma = 0.1                                 \n",
    "deg_range = range(20)\n",
    "k_fold = 5\n",
    "k_size = int(n/k_fold)\n",
    "n_idx = range(n)\n",
    "\n",
    "# generate data\n",
    "# x_train, y_train = generate_data(n, a, b , sigma)\n",
    "# x_test, y_test = generate_data(n_test, a, b , sigma)\n",
    "\n",
    "loss_test_fold = np.zeros((len(deg_range), k_fold))\n",
    "for fold_idx, test_idx in enumerate([n_idx[i:i+k_size] for i in xrange(0, n, k_size)]):\n",
    "    \n",
    "    if len(test_idx)<20:\n",
    "        loss_test_fold = np.delete(x,(fold_idx), axis=1)\n",
    "        print 'deleted', fold_idx, loss_test_fold.shape\n",
    "        continue\n",
    "        \n",
    "    train_idx = [item for item in n_idx if item not in test_idx]\n",
    "    \n",
    "    (x_test_fold, y_test_fold) = (x_train[test_idx], y_train[test_idx])\n",
    "    (x_train_fold, y_train_fold) = (x_train[train_idx], y_train[train_idx])\n",
    "    \n",
    "    for deg_idx, deg in enumerate(deg_range):\n",
    "\n",
    "        w_ols = mod3.ols(x_train_fold, y_train_fold, p=deg)\n",
    "\n",
    "        loss_test_fold[deg_idx, fold_idx] = loss(x_test_fold, y_test_fold, w_ols)\n",
    "    \n",
    "loss_test_fold_mean = np.mean(loss_test_fold, axis=1)\n",
    "loss_test_fold_std = np.std(loss_test_fold, axis=1)\n",
    "\n",
    "plt.figure()\n",
    "plt.fill_between(deg_range, loss_test_fold_mean, \n",
    "                 loss_test_fold_mean + loss_test_fold_std,\n",
    "                 color='C1', label='sqrt loss $\\mu\\pm\\sigma$')\n",
    "plt.fill_between(deg_range, loss_test_fold_mean, \n",
    "                 loss_test_fold_mean - loss_test_fold_std,\n",
    "                 where=(loss_test_fold_mean - loss_test_fold_std)>0,\n",
    "                 color='C1')\n",
    "plt.plot(deg_range, loss_test_fold_mean, label='sqrt loss $\\mu$')\n",
    "plt.plot(deg_range, loss_test_fold_mean, 'ko')\n",
    "\n",
    "plt.title('Sqrt Loss vs polynomial degree')\n",
    "plt.xlabel('Degree')\n",
    "plt.ylabel('Sqrt loss')\n",
    "plt.legend()\n",
    "# plt.ylim([0,0.1])\n",
    "\n",
    "plt.tight_layout()\n",
    "plt.show()"
   ]
  },
  {
   "cell_type": "markdown",
   "metadata": {},
   "source": [
    "**EXPECTED OUTPUT**\n",
    "\n",
    "<img src=\"fig/poly_fit_range.png\" style=\"width:90%;height:90%;display:inline;margin:1px\">\n",
    "<img src=\"fig/poly_fit_deg_extended_1.png\" style=\"width:450px;height:450px;display:inline;margin:1px\">\n",
    "<img src=\"fig/poly_fit_deg_extended_2.png\" style=\"width:450px;height:450px;display:inline;margin:1px\">"
   ]
  },
  {
   "cell_type": "markdown",
   "metadata": {},
   "source": [
    "**EXTENDED EXERCISE 1**\n",
    "\n",
    "Why is $\\sigma\\left(\\|W\\|^2\\right)$ from *Exercise 10* not symetric? Explain the scaling of $\\mu\\left(\\|W\\|^2\\right)$ with $N$. How does its peak value scale with $p$?"
   ]
  },
  {
   "cell_type": "markdown",
   "metadata": {},
   "source": [
    "**EXTENDED EXERCISE 2**\n",
    "\n",
    "Add a penalty term to $C(\\mathcal{D},\\mathbf{w})$ in order to discourage large weight values, i.e. to regularize the weights.\n",
    "\n",
    "$$C(\\mathcal{D},\\mathbf{w})_\\lambda=\\frac{1}{2n}\\sum _{i=1}^{n}(y_{i}-\\mathbf{x}_{i}^{T}\\mathbf{w})^{2}+\\lambda\\|W\\|^2 ,\n",
    "$$\n",
    "\n",
    "Derive the maximum likelihood solution $\\mathbf{w}*$ under $C(\\mathcal{D},\\mathbf{w})_\\lambda$. What is the effect of including/excluding $w_0$ in the penalty term? How does $\\mu\\left(\\|W\\|^2\\right)$ evolve with $\\lambda$? The Bishop is your friend."
   ]
  },
  {
   "cell_type": "markdown",
   "metadata": {},
   "source": [
    "**EXTENDED EXERCISE 3**\n",
    "\n",
    "Examine the effect of extending the range of $x$ in regards to optimal value $p^*$ by using ensemble statistics. Plot the scaling do of $p^*$ with the range of $x$. Relate it to minimal polynomial degree that it would take to approximate the function with a truncated Taylor expansion of degree $p$.\n"
   ]
  }
 ],
 "metadata": {
  "kernelspec": {
   "display_name": "Python 2",
   "language": "python",
   "name": "python2"
  },
  "language_info": {
   "codemirror_mode": {
    "name": "ipython",
    "version": 2
   },
   "file_extension": ".py",
   "mimetype": "text/x-python",
   "name": "python",
   "nbconvert_exporter": "python",
   "pygments_lexer": "ipython2",
   "version": "2.7.13"
  }
 },
 "nbformat": 4,
 "nbformat_minor": 2
}
