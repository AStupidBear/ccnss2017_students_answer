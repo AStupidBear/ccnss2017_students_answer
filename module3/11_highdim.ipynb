{
 "cells": [
  {
   "cell_type": "markdown",
   "metadata": {},
   "source": [
    "## Recurrence, Depth and High-dimensional data\n",
    "# High-dimensional statistics"
   ]
  },
  {
   "cell_type": "markdown",
   "metadata": {},
   "source": [
    "## Introduction\n",
    "\n",
    "In this notebook we will:\n",
    "- Get to know some fun properties of high dimensional spaces.\n",
    "- Experience the curses and blessings of dimensionality."
   ]
  },
  {
   "cell_type": "code",
   "execution_count": 314,
   "metadata": {
    "collapsed": true
   },
   "outputs": [],
   "source": [
    "import numpy as np\n",
    "import matplotlib.pyplot as plt\n",
    "from __future__ import division\n",
    "%matplotlib inline\n",
    "np.random.seed(0)"
   ]
  },
  {
   "cell_type": "markdown",
   "metadata": {},
   "source": [
    "### Properties of High-Dimensional Space"
   ]
  },
  {
   "cell_type": "markdown",
   "metadata": {},
   "source": [
    "1. Draw 10000 vectors at random in a 100-dimensional space. Generate each coordinate independently according to the same distribution (for example sample each coordinate uniformly from the interval [0, 1]). What is distribution of the the Euclidian norm of these vectors and why ?\n",
    "\n",
    "2. [optional] Draw 100 points uniformly at random in a unit square. Select a point and measure the distance to all other points and observe the distribution of distances. Then increase the dimension and generate the points uniformly at random in a 100-dimensional unit cube. What happens to the distribution of distances and why?\n",
    "\n",
    "3. [optional] Same question in the unit-radius circle and the unit radius sphere in p-dimensions."
   ]
  },
  {
   "cell_type": "code",
   "execution_count": null,
   "metadata": {
    "collapsed": true
   },
   "outputs": [],
   "source": []
  },
  {
   "cell_type": "code",
   "execution_count": null,
   "metadata": {
    "collapsed": true
   },
   "outputs": [],
   "source": []
  },
  {
   "cell_type": "markdown",
   "metadata": {},
   "source": [
    "- How vast are high dimensional spaces? Show that random vectors are orthogonal to one another in high dimension (recall that orthogonal vectors have a null dot product)."
   ]
  },
  {
   "cell_type": "code",
   "execution_count": null,
   "metadata": {
    "collapsed": true
   },
   "outputs": [],
   "source": []
  },
  {
   "cell_type": "markdown",
   "metadata": {},
   "source": [
    "- The power of non-linearity revealed by SVD:\n",
    "    - Sample 10000 points independently and at random from a 100-dimensional space. Randomly project these points in a 500-dimensional space (this corresponds to one stage of a linear neural network). What is the dimensionality of these linearly expanded data?\n",
    "    - Compare it to the dimensionality of non-linear random expansions (for eg. apply a point-wise non-linearity to the linearly expanded data). Inspect the covariance eigenspectrum of the input, of the linear expansion and of the non-linear expansion.\n",
    "    - Can you detect signatures of intrinsic low dimension of the data in the eigenspectrum?\n",
    "    - [optional]  How can you use this heuristic definition of effective dimensionality ?\n",
    "\\begin{eqnarray}\n",
    "N_{eff} = \\frac{(\\sum \\lambda ) ^ 2}{ \\sum \\lambda ^ 2}\n",
    "\\end{eqnarray}"
   ]
  },
  {
   "cell_type": "code",
   "execution_count": null,
   "metadata": {
    "collapsed": true
   },
   "outputs": [],
   "source": []
  },
  {
   "cell_type": "code",
   "execution_count": null,
   "metadata": {
    "collapsed": true
   },
   "outputs": [],
   "source": []
  },
  {
   "cell_type": "code",
   "execution_count": null,
   "metadata": {
    "collapsed": true
   },
   "outputs": [],
   "source": []
  },
  {
   "cell_type": "markdown",
   "metadata": {},
   "source": [
    "- Draw $N = 1000$ samples from a $P = 100$-dimensional Gaussian distribution with mean zeros and covaiance equal to the identity matrix. These are independent samples (no interaction) and their covariance should have one eigenvalue equal to one (in the infite sampling limit).\n",
    "    - How does this prediction compare to the eigenspectrum of the empirical covariance?\n",
    "    - How does this picture change as you vary the ratio $r = \\frac{P}{N}$ (in many modern applications it is not uncommon to have $P$ in the order of $N$)?"
   ]
  },
  {
   "cell_type": "code",
   "execution_count": null,
   "metadata": {
    "collapsed": true
   },
   "outputs": [],
   "source": []
  },
  {
   "cell_type": "code",
   "execution_count": null,
   "metadata": {
    "collapsed": true
   },
   "outputs": [],
   "source": []
  },
  {
   "cell_type": "markdown",
   "metadata": {},
   "source": [
    "### Optional Projects\n",
    "\n",
    "** Taking a short mathematical promenade in high dimensional spaces**\n",
    "- What is the volumes of the unit n-hypersphere and of the unit n-hypercube ? What happens to the ratio of these two volumes when n grows to infinity and what does it mean ?"
   ]
  },
  {
   "cell_type": "markdown",
   "metadata": {},
   "source": [
    "$V_{n}={\\frac {\\pi ^{\\frac {n}{2}}}{\\Gamma \\left({\\frac {n}{2}}+1\\right)}}$"
   ]
  },
  {
   "cell_type": "code",
   "execution_count": 313,
   "metadata": {},
   "outputs": [
    {
     "data": {
      "text/plain": [
       "8"
      ]
     },
     "execution_count": 313,
     "metadata": {},
     "output_type": "execute_result"
    }
   ],
   "source": [
    "np.power(2, 3)"
   ]
  },
  {
   "cell_type": "code",
   "execution_count": 316,
   "metadata": {},
   "outputs": [
    {
     "data": {
      "text/plain": [
       "<matplotlib.text.Text at 0x7f9b30fdbed0>"
      ]
     },
     "execution_count": 316,
     "metadata": {},
     "output_type": "execute_result"
    },
    {
     "data": {
      "image/png": "[encoded data removed]",
      "text/plain": [
       "<matplotlib.figure.Figure at 0x7f9b31459350>"
      ]
     },
     "metadata": {},
     "output_type": "display_data"
    }
   ],
   "source": [
    "import scipy as sp\n",
    "n = range(10, 1000, 100)\n",
    "v = [np.power(np.pi, n / 2) / sp.special.gamma(n/2 + 1)for n in n]\n",
    "plt.plot(v)\n",
    "plt.yscale(\"log\")\n",
    "plt.xlabel(\"n\")\n",
    "plt.ylabel(\"$V_{n}$\")\n",
    "# plt.xscale(\"log\")"
   ]
  },
  {
   "cell_type": "markdown",
   "metadata": {},
   "source": [
    "- Illusions of Structure in High Dimensional Noise:\n",
    "    - draw N = 2000 random points in P = 1000 dimensional space are drawn from a structureless zero mean, identity covariance Gaussian distribution. We will project these points onto different directions. What is the density of the projection of these points onto a random direction ? What is the density of the projection of these points onto the principal component vector ?\n",
    "    - Now perform K-means clustering with K = 2 on the data (make sure that you know about Lloyd's algorithm first). Project these points onto the two clusters directions, what do you observe? How does this change with N and P?\n",
    "    "
   ]
  },
  {
   "cell_type": "code",
   "execution_count": 43,
   "metadata": {
    "collapsed": true
   },
   "outputs": [],
   "source": [
    "N, P = 2000, 1000\n",
    "x = np.random.normal(size = (N, P))"
   ]
  },
  {
   "cell_type": "code",
   "execution_count": 45,
   "metadata": {},
   "outputs": [
    {
     "data": {
      "image/png": "[encoded data removed]",
      "text/plain": [
       "<matplotlib.figure.Figure at 0x7f9b6da95b10>"
      ]
     },
     "metadata": {},
     "output_type": "display_data"
    }
   ],
   "source": [
    "v = np.random.uniform(size = (P, 1))\n",
    "v = v / np.linalg.norm(v)\n",
    "x_project = np.dot(x, v)\n",
    "plt.hist(x_project.flatten())\n",
    "plt.show()"
   ]
  },
  {
   "cell_type": "code",
   "execution_count": 317,
   "metadata": {},
   "outputs": [
    {
     "data": {
      "image/png": "[encoded data removed]",
      "text/plain": [
       "<matplotlib.figure.Figure at 0x7f9bc88ce590>"
      ]
     },
     "metadata": {},
     "output_type": "display_data"
    }
   ],
   "source": [
    "from sklearn import decomposition\n",
    "\n",
    "pca = decomposition.PCA(n_components = 1).fit(x)\n",
    "x_pca = pca.transform(x)\n",
    "plt.hist(x_pca.flatten())\n",
    "plt.show()"
   ]
  },
  {
   "cell_type": "code",
   "execution_count": 312,
   "metadata": {},
   "outputs": [
    {
     "data": {
      "image/png": "[encoded data removed]",
      "text/plain": [
       "<matplotlib.figure.Figure at 0x7f9b31001890>"
      ]
     },
     "metadata": {},
     "output_type": "display_data"
    }
   ],
   "source": [
    "N, P = 300, 1000\n",
    "\n",
    "plt.figure(figsize=(9, 4))\n",
    "\n",
    "for (i, N) in enumerate([1000, 500, 300, 200]):\n",
    "    x = np.random.normal(size = (N, P))\n",
    "\n",
    "    from sklearn.cluster import KMeans\n",
    "    kmeans = KMeans(n_clusters = 2, random_state = 0).fit(x)\n",
    "\n",
    "    x_kmeans = np.dot(x, kmeans.cluster_centers_.T)\n",
    "    plt.subplot(1, 4, i + 1)\n",
    "    plt.plot(x_kmeans[:, 0], x_kmeans[:, 1], \"o\")\n",
    "    plt.title(\"N/P=%g\" % (N/P))\n",
    "    "
   ]
  },
  {
   "cell_type": "markdown",
   "metadata": {},
   "source": [
    "- High Dimensional Inference:\n",
    "    - learn about the Marchenko-Pastur distribution and use it to plot the theoretical spectrum of a random matrix. Compare this result with the eigenspectrum of the empirical covariance matrices of random and independent data points (each coordinate is a random Gaussian). What do you observe?\n",
    "    - Let us now consider a minimal non-trivial case by adding a rank one perturbation to our identity covariance matrix. This is called the spiked model and it is a foundation of modern inference techniques (you are encouraged to do some reading about it). Vary the size of the perturbation (ie. change the SNR) and observe its signature in the eigenspectrum. Which perturbation are detectable? You should find a phase trasition (this is also true for the eigenvectors).\n",
    "    - Can you think of a way to beat the threshold that you observed in the phase transition? (hint: use regularization techniques - aka. priors).\n",
    "    "
   ]
  },
  {
   "cell_type": "code",
   "execution_count": 182,
   "metadata": {
    "collapsed": true
   },
   "outputs": [],
   "source": [
    "N=1000\n",
    "P = 10000"
   ]
  },
  {
   "cell_type": "code",
   "execution_count": 265,
   "metadata": {
    "collapsed": true
   },
   "outputs": [],
   "source": [
    "def marchenko_pastur(P, N, X, xlim = (-1, 4), bins = \"auto\"):\n",
    "    Y = np.dot(X.T, X) / N\n",
    "    w = np.linalg.eigvals(Y)\n",
    "    w_real, w_imag = np.real(w), np.imag(w)\n",
    "    plt.hist(w_real, normed=True, bins = bins)\n",
    "\n",
    "    c = P / N\n",
    "    s = 1\n",
    "    a = s**2 * (1 - np.sqrt(c))**2\n",
    "    b = s**2 * (1 + np.sqrt(c))**2\n",
    "    x = np.linspace(a, b, 10)\n",
    "    y= [1 / (2 * np.pi * xx * c * s**2) * np.sqrt((b - xx) * (xx - a)) for xx in x]\n",
    "    plt.plot(x, y)\n",
    "\n",
    "    plt.xlim(xlim)\n",
    "    plt.title(\"$N/P$ = %d\" % (N / P))"
   ]
  },
  {
   "cell_type": "code",
   "execution_count": 266,
   "metadata": {},
   "outputs": [
    {
     "name": "stderr",
     "output_type": "stream",
     "text": [
      "/home/luyao/miniconda2/lib/python2.7/site-packages/ipykernel_launcher.py:12: RuntimeWarning: divide by zero encountered in double_scalars\n",
      "  if sys.path[0] == '':\n",
      "/home/luyao/miniconda2/lib/python2.7/site-packages/ipykernel_launcher.py:12: RuntimeWarning: invalid value encountered in double_scalars\n",
      "  if sys.path[0] == '':\n"
     ]
    },
    {
     "data": {
      "image/png": "[encoded data removed]",
      "text/plain": [
       "<matplotlib.figure.Figure at 0x7f9b3283a210>"
      ]
     },
     "metadata": {},
     "output_type": "display_data"
    }
   ],
   "source": [
    "P = 1000\n",
    "plt.figure(figsize=(9, 4))\n",
    "for (i, N) in enumerate([1000, 5000, 10000, 50000]):\n",
    "    plt.subplot(1, 4, i + 1)\n",
    "    X = np.random.normal(size = (N, P))\n",
    "    marchenko_pastur(P, N, X)"
   ]
  },
  {
   "cell_type": "code",
   "execution_count": 267,
   "metadata": {},
   "outputs": [
    {
     "data": {
      "image/png": "[encoded data removed]",
      "text/plain": [
       "<matplotlib.figure.Figure at 0x7f9b38050a90>"
      ]
     },
     "metadata": {},
     "output_type": "display_data"
    }
   ],
   "source": [
    "P, N = 1000, 10000\n",
    "\n",
    "plt.figure(figsize=(9, 4))\n",
    "\n",
    "for (i, a) in enumerate([0.5, 0.6, 0.7]):\n",
    "    v = np.zeros((P, 1))\n",
    "    v[P // 2] = 1\n",
    "    conv =  np.eye(P) + a* np.dot(v, v.T)\n",
    "\n",
    "    X = np.random.multivariate_normal(np.zeros(P), conv, size = (N))\n",
    "  \n",
    "    plt.subplot(1, 4, i + 1)\n",
    "    marchenko_pastur(P, N, X, xlim = (0, a + 2))\n",
    "    plt.title(\"a = %g\" % a)"
   ]
  },
  {
   "cell_type": "markdown",
   "metadata": {},
   "source": [
    "- Derive the non-linear learning dynamics of Linear Feedforward Network as in *Saxe Mcclelland Ganguli 2014 Exact solutions to the nonlinear dynamics of learning in deep linear neural networks*.\n",
    "    - Can you reproduce the learning curves and the phase space plot of the weigths?\n",
    "    - How could you extend this work to more complex models (eg. networks with non-linearities)?"
   ]
  },
  {
   "cell_type": "markdown",
   "metadata": {},
   "source": [
    "some simple baseline code for the Linear Feedforward Network"
   ]
  },
  {
   "cell_type": "code",
   "execution_count": 269,
   "metadata": {
    "collapsed": true
   },
   "outputs": [],
   "source": [
    "def initialize_simple(n_input, n_hidden, n_output):\n",
    "    params = {'n_input' : n_input,\n",
    "              'n_hidden': n_hidden,\n",
    "              'n_output': n_output}\n",
    "    \n",
    "    params['W1'] = np.random.randn(n_hidden,n_input)\n",
    "    params['W2'] = np.random.randn(n_output,n_hidden)\n",
    "    params['b1'] = np.random.randn(n_hidden,1) # this shape is important for broadcasting\n",
    "    params['b2'] = np.random.randn(n_output,1)\n",
    "    return params\n",
    "\n",
    "p = initialize_simple(2,3,1)"
   ]
  },
  {
   "cell_type": "code",
   "execution_count": 270,
   "metadata": {
    "collapsed": true
   },
   "outputs": [],
   "source": [
    "def train_net(xall, yall, params, beta, n_iter, mini_batch):\n",
    "    \n",
    "    n_batch = np.shape(xall)[1]\n",
    "    C_list = []\n",
    "    \n",
    "    for i in range(n_iter):\n",
    "\n",
    "        ind   = np.random.randint(n_batch, size = mini_batch)\n",
    "        x     = xall[:,ind]\n",
    "        y     = yall[:,ind]\n",
    "        \n",
    "        h     = np.dot(params['W1'],x) + params['b1']\n",
    "        y_hat = np.dot(params['W2'],h) + params['b2']\n",
    "\n",
    "        C = np.sum((y-y_hat)**2)\n",
    "        C_list.append(C)\n",
    "\n",
    "        dCdy   = y_hat-y\n",
    "        dCdWyh = np.dot(dCdy,h.T)/mini_batch\n",
    "        dCdby  = np.mean(dCdy,axis=1,keepdims=True)\n",
    "\n",
    "        params['W2'] -= beta * dCdWyh\n",
    "        params['b2']  -= beta * dCdby\n",
    "\n",
    "        dCdh   = np.dot(params['W2'].T, dCdy)\n",
    "        dCdWhx = np.dot(dCdh,x.T)/mini_batch\n",
    "        dCdbh  = np.mean(dCdh,axis=1,keepdims=True)\n",
    "\n",
    "        params['W1'] -= beta*dCdWhx\n",
    "        params['b1']  -= beta*dCdbh\n",
    "    \n",
    "    return params, C_list"
   ]
  },
  {
   "cell_type": "code",
   "execution_count": 271,
   "metadata": {
    "collapsed": true
   },
   "outputs": [],
   "source": [
    "# generate synthetic data\n",
    "n_input = 50\n",
    "n_output = 10\n",
    "n_batch = 1000\n",
    "x = np.random.randn(n_input,n_batch)\n",
    "w = np.random.randn(n_output,n_input)\n",
    "y = w.dot(x) > 0\n",
    "\n",
    "# initialize\n",
    "n_hidden = 100\n",
    "params_init = initialize_simple(n_input, n_hidden, n_output)"
   ]
  },
  {
   "cell_type": "code",
   "execution_count": 272,
   "metadata": {},
   "outputs": [
    {
     "name": "stdout",
     "output_type": "stream",
     "text": [
      "CPU times: user 4.26 s, sys: 152 ms, total: 4.41 s\n",
      "Wall time: 185 ms\n"
     ]
    }
   ],
   "source": [
    "%%time\n",
    "params, C_list = train_net(x, y, params_init, beta = .001, n_iter = 100, mini_batch = n_batch)"
   ]
  },
  {
   "cell_type": "code",
   "execution_count": 273,
   "metadata": {},
   "outputs": [
    {
     "data": {
      "image/png": "[encoded data removed]",
      "text/plain": [
       "<matplotlib.figure.Figure at 0x7f9b4f601ad0>"
      ]
     },
     "metadata": {},
     "output_type": "display_data"
    }
   ],
   "source": [
    "plt.figure()\n",
    "plt.plot(C_list)\n",
    "plt.ylabel('error')\n",
    "plt.xlabel('iterations')\n",
    "plt.show()"
   ]
  },
  {
   "cell_type": "markdown",
   "metadata": {},
   "source": [
    "- Dropout seen as regularization by noise (Srivastava etal. 2014, section 9.1)\n",
    "    - Consider the simple linear regression case, marginalizing the noise the objective function is:\n",
    "\\begin{eqnarray}\n",
    "\\text{minimize}_{\\mathbf{w}} \\mathbb{E}_{\\mathbf{R} \\sim \\text{Bernoulli}(p)}[|| \\mathbf{y} - (\\mathbf{R} * \\mathbf{X}) \\mathbf{w}||^2 ]\n",
    "\\end{eqnarray}\n",
    "Show that it reduces to:\n",
    "\\begin{eqnarray}\n",
    "\\text{minimize}_{\\mathbf{w}} || \\mathbf{y} - p \\mathbf{X} \\mathbf{w}||^2 + p(1-p) ||\\Gamma \\mathbf{w}||^2\n",
    "\\end{eqnarray}\n",
    "where $\\Gamma = \\text{diag}(X^{T}X)^{1/2}$\n",
    "\n",
    "    - How confident can we be in this interpretation of Dropout? What would you need to calculate in order to assess the accuracy of this approach? Can you derive a similar expression for more complex models (eg. RBM)?"
   ]
  },
  {
   "cell_type": "code",
   "execution_count": null,
   "metadata": {
    "collapsed": true
   },
   "outputs": [],
   "source": [
    "np.linalg.norm()"
   ]
  }
 ],
 "metadata": {
  "kernelspec": {
   "display_name": "Python 2",
   "language": "python",
   "name": "python2"
  },
  "language_info": {
   "codemirror_mode": {
    "name": "ipython",
    "version": 2
   },
   "file_extension": ".py",
   "mimetype": "text/x-python",
   "name": "python",
   "nbconvert_exporter": "python",
   "pygments_lexer": "ipython2",
   "version": "2.7.13"
  }
 },
 "nbformat": 4,
 "nbformat_minor": 2
}
