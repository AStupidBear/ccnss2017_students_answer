{
 "cells": [
  {
   "cell_type": "markdown",
   "metadata": {},
   "source": [
    "# Introduction\n",
    "\n",
    "In this tutorial, we will extend some of the TD algorithms we implemented in the previous tutorial."
   ]
  },
  {
   "cell_type": "markdown",
   "metadata": {},
   "source": [
    "# Notebook setup\n",
    "\n",
    "## Instructions\n",
    "\n",
    "- Import numpy, scipy and matplotlib\n",
    "- Configure inline plots\n",
    "- Import helper modules"
   ]
  },
  {
   "cell_type": "code",
   "execution_count": 1,
   "metadata": {
    "collapsed": true
   },
   "outputs": [],
   "source": [
    "% matplotlib inline\n",
    "import numpy as np\n",
    "import matplotlib.pyplot as plt\n",
    "from pylab import *\n",
    "\n",
    "# Import definitions of the environments.\n",
    "import RL_worlds as worlds\n",
    "\n",
    "# Import helper functions for plotting.\n",
    "from plot_util import *"
   ]
  },
  {
   "cell_type": "code",
   "execution_count": 2,
   "metadata": {
    "collapsed": true
   },
   "outputs": [],
   "source": [
    "def init_state(params):\n",
    "    \"\"\"\n",
    "    Initialize the state at the beginning of an episode.\n",
    "    Args:\n",
    "        params: a dictionary containing the default parameters.\n",
    "    Returns:\n",
    "        an integer corresponding to the initial state.\n",
    "    \"\"\"\n",
    "    if params['environment'].name == 'windy_cliff_grid':\n",
    "        return 0\n",
    "    elif params['environment'].name == 'n_armed_bandit':\n",
    "        return 0\n",
    "    elif params['environment'].name == 'cheese_world':\n",
    "        return 0\n",
    "    elif params['environment'].name == 'cliff_world':\n",
    "        return 0\n",
    "    elif params['environment'].name == 'quentins_world':\n",
    "        return 54\n",
    "\n",
    "def update_state(state, action, params):\n",
    "    \"\"\"\n",
    "    State transition based on world, action and current state.\n",
    "    Args:\n",
    "        state: integer corresponding to the current state.\n",
    "        action: integer corresponding to the action taken.\n",
    "        params: a dictionary containing the default parameters.\n",
    "    Returns:\n",
    "        an integer corresponding to the next state;\n",
    "        an integer corresponding to the reward received.\n",
    "    \"\"\"\n",
    "    next_state, reward = params['environment'].get_outcome(state, action)\n",
    "    return next_state, reward\n",
    "    \n",
    "def call_policy(state, value, params):\n",
    "    \"\"\"\n",
    "    Call a policy to choose actions, given current state and value function.\n",
    "    Args:\n",
    "        state: integer corresponding to the current state.\n",
    "        value: a matrix indexed by state and action.\n",
    "        params: a dictionary containing the default parameters.\n",
    "    Returns:\n",
    "        an integer corresponding action chosen according to the policy.\n",
    "    \"\"\"\n",
    "    # multiple options for policy\n",
    "    if params['policy'] == 'epsilon_greedy':\n",
    "        return epsilon_greedy(state, value, params)\n",
    "    elif params['policy'] == 'softmax':\n",
    "        return softmax(state, value, params)\n",
    "    else: # random policy (if policy not recognized, choose randomly)\n",
    "        return randint(params['environment'].n_actions)\n",
    "\n",
    "def update_value(prev_state, action, reward, state, value, params):\n",
    "    \"\"\"\n",
    "    Update the value function.\n",
    "    Args:\n",
    "        prev_state: an integer corresponding to the previous state.\n",
    "        action: an integer correspoding to action taken.\n",
    "        reward: a float corresponding to the reward received.\n",
    "        state: an integer corresponding to the current state;\n",
    "          should be None if the episode ended.\n",
    "        value: a matrix indexed by state and action.\n",
    "        params: a dictionary containing the default parameters. \n",
    "    Returns:\n",
    "        the updated value function (matrix indexed by state and action).\n",
    "    \"\"\"\n",
    "    if params['learning_rule'] == 'q_learning':\n",
    "        # off policy learning\n",
    "        return q_learning(prev_state, action, reward, state, value, params)\n",
    "    elif params['learning_rule'] == 'sarsa':\n",
    "        # on policy learning\n",
    "        return sarsa(prev_state, action, reward, state, value, params)\n",
    "    else:\n",
    "        print('Learning rule not recognized')\n",
    "\n",
    "def default_params(environment):\n",
    "    \"\"\"\n",
    "    Define the default parameters.\n",
    "    Args:\n",
    "        environment: an object corresponding to the environment.\n",
    "    Returns:\n",
    "        a dictionary containing the default parameters, where the keys\n",
    "            are strings (parameter names).\n",
    "    \"\"\"\n",
    "    params = dict()\n",
    "    params['environment'] = environment\n",
    "    \n",
    "    params['alpha'] = 0.1  # learning rate    \n",
    "    params['beta'] = 10  # inverse temperature    \n",
    "    params['policy'] = 'epsilon_greedy'\n",
    "    params['epsilon'] = 0.05  # epsilon-greedy policy\n",
    "    params['learning_rule'] = 'q_learning'\n",
    "    params['epsilon_decay'] = 0.9\n",
    "    \n",
    "    if environment.name == 'windy_cliff_grid':\n",
    "        params['gamma'] = 0.6  # temporal discount factor\n",
    "    elif environment.name == 'n_armed_bandit':\n",
    "        params['gamma'] = 0.9  # temporal discount factor\n",
    "    elif environment.name == 'cliff_world':\n",
    "        params['gamma'] = 1.0  # no discounting\n",
    "    elif environment.name == 'cheese_world':\n",
    "        params['gamma'] = 0.5  # temporal discount factor\n",
    "    elif environment.name == 'quentins_world':\n",
    "        params['gamma'] = 0.9  # temporal discount factor\n",
    "\n",
    "    return params"
   ]
  },
  {
   "cell_type": "code",
   "execution_count": 3,
   "metadata": {
    "collapsed": true
   },
   "outputs": [],
   "source": [
    "def run_rl(params, n_episodes = 500, n_steps = 1000):\n",
    "    env = params[\"environment\"]\n",
    "    value = np.zeros((env.n_states, env.n_actions))\n",
    "    rewards = []\n",
    "    for episode in range(n_episodes):\n",
    "        state = init_state(params)\n",
    "        reward_sum = 0\n",
    "        for step in range(n_steps):\n",
    "            action = call_policy(state, value, params)\n",
    "            next_state, reward = update_state(state, action, params)\n",
    "            reward_sum += reward\n",
    "            value = update_value(state, action, reward, next_state, value, params)  \n",
    "            state = next_state\n",
    "            if next_state == None: break\n",
    "        rewards.append(reward_sum)\n",
    "    return value, rewards"
   ]
  },
  {
   "cell_type": "code",
   "execution_count": 4,
   "metadata": {
    "collapsed": true
   },
   "outputs": [],
   "source": [
    "def plot_rl(params, value, rewards):\n",
    "    plot_state_action_values(params[\"environment\"], value)\n",
    "    plot_quiver_max_action(params[\"environment\"], value)\n",
    "    plot_heatmap_max_val(params[\"environment\"], value)\n",
    "    plot_rewards(len(rewards), rewards)\n",
    "    plt.show()"
   ]
  },
  {
   "cell_type": "code",
   "execution_count": 5,
   "metadata": {
    "collapsed": true
   },
   "outputs": [],
   "source": [
    "def q_learning(state, action, reward, next_state, value, params):\n",
    "    max_value = max(value[next_state,:]) if next_state is not None else 0\n",
    "    delta = reward + params[\"gamma\"] * max_value - value[state, action]\n",
    "    value[state, action] += params[\"alpha\"] * delta\n",
    "    return value\n",
    "\n",
    "def sarsa(state, action, reward, next_state, value, params):\n",
    "    next_action =  call_policy(next_state, value, params)\n",
    "    next_value = value[next_state, next_action] if next_state != None else 0\n",
    "    delta = reward + params[\"gamma\"] * next_value - value[state, action]\n",
    "    value[state, action] += params[\"alpha\"] * delta\n",
    "    return value"
   ]
  },
  {
   "cell_type": "code",
   "execution_count": 6,
   "metadata": {
    "collapsed": true
   },
   "outputs": [],
   "source": [
    "def epsilon_greedy(state, value, params):\n",
    "    if np.random.rand() < 1 - params[\"epsilon\"]: \n",
    "        a = argmax(value[state, :])\n",
    "    else:\n",
    "        a = np.random.randint(params[\"environment\"].n_actions)\n",
    "    params[\"epsilon\"] *= params['epsilon_decay'] \n",
    "    return a"
   ]
  },
  {
   "cell_type": "markdown",
   "metadata": {},
   "source": [
    "# Exercise 1: $\\epsilon$ decay\n",
    "\n",
    "1. Modify the code you wrote for the $\\epsilon$-greedy policy so that the $\\epsilon$ (proportion of random choices) decreases over time.\n",
    "2. Test the new policy with different learning algorithms. How does the decay affect your results?"
   ]
  },
  {
   "cell_type": "code",
   "execution_count": 260,
   "metadata": {},
   "outputs": [
    {
     "data": {
      "image/png": "[encoded data removed]",
      "text/plain": [
       "<matplotlib.figure.Figure at 0x7f537ac9a950>"
      ]
     },
     "metadata": {},
     "output_type": "display_data"
    }
   ],
   "source": [
    "for decay in np.linspace(0, 1, 2):\n",
    "    params = default_params(worlds.cliff_world())\n",
    "    params[\"epsilon\"] = 0.1\n",
    "    params[\"alpha\"] = 0.3\n",
    "    params[\"policy\"] = \"epsilon_greedy\"\n",
    "    params[\"learning_rule\"] = \"q_learning\"\n",
    "    params[\"epsilon_decay\"] =  decay\n",
    "    value, rewards = run_rl(params)\n",
    "    plot_rewards(len(rewards), rewards)"
   ]
  },
  {
   "cell_type": "markdown",
   "metadata": {},
   "source": [
    "# Exercise 2: Sarsa($\\lambda$)\n",
    "\n",
    "1. You can improve the performance of TD algorithms by allowing faster back propagation. Modify your Sarsa algorithm from the previous tutorial to obtain Sarsa($\\lambda$), which makes use of eligibility traces to propagate the strengthening effect of each reward into the whole sequence of actions that led to it.\n",
    "2. To explore the effect of eligibility traces on learning, run Sarsa($\\lambda$) on Quentin's world, testing different combinations of $\\lambda$ and $\\alpha$ values. How does $\\lambda$ affect the efficiency of Sarsa?"
   ]
  },
  {
   "cell_type": "code",
   "execution_count": 7,
   "metadata": {
    "collapsed": true
   },
   "outputs": [],
   "source": [
    "def run_sarsa_lambda(params, n_episodes = 500, n_steps = 1000):\n",
    "    env = params[\"environment\"]\n",
    "    value = np.zeros((env.n_states, env.n_actions))\n",
    "    rewards = []\n",
    "    for episode in range(n_episodes):\n",
    "        trace = np.zeros_like(value)\n",
    "        state = init_state(params)\n",
    "        reward_sum = 0\n",
    "        for step in range(n_steps):\n",
    "            action = call_policy(state, value, params)\n",
    "            next_state, reward = update_state(state, action, params)\n",
    "            reward_sum += reward\n",
    "            value, trace = sarsa_lambda(state, action, reward, next_state, value, trace, params)  \n",
    "            state = next_state\n",
    "            if next_state == None: break\n",
    "        rewards.append(reward_sum)\n",
    "    return value, rewards"
   ]
  },
  {
   "cell_type": "code",
   "execution_count": 8,
   "metadata": {
    "collapsed": true
   },
   "outputs": [],
   "source": [
    "def sarsa_lambda(state, action, reward, next_state, value, trace, params):\n",
    "    next_action =  call_policy(next_state, value, params)\n",
    "    next_value = value[next_state, next_action] if next_state != None else 0\n",
    "    delta = reward + params[\"gamma\"] * next_value - value[state, action]\n",
    "    trace *= params[\"gamma\"] * params[\"lambda\"]\n",
    "    trace[state, action] += 1\n",
    "    value += trace * params[\"alpha\"] * delta\n",
    "    return value, trace"
   ]
  },
  {
   "cell_type": "code",
   "execution_count": 25,
   "metadata": {
    "collapsed": true
   },
   "outputs": [],
   "source": [
    "def mean_reward(a, l, plot = False):\n",
    "    params = default_params(worlds.quentins_world())\n",
    "    params[\"policy\"] = \"epsilon_greedy\"\n",
    "    params[\"epsilon_decay\"] =  0.999\n",
    "    params[\"alpha\"] = a\n",
    "    params[\"lambda\"] = l\n",
    "    value, rewards = run_sarsa_lambda(params, n_episodes = 10)\n",
    "    if plot: \n",
    "        plt.plot(rewards)\n",
    "        plt.xlabel(\"episode\")\n",
    "        plt.ylabel(\"reward\")\n",
    "#     time = argmax(np.array(rewards) >= -0.01)\n",
    "    return np.mean(rewards)"
   ]
  },
  {
   "cell_type": "code",
   "execution_count": 29,
   "metadata": {},
   "outputs": [
    {
     "data": {
      "text/plain": [
       "-0.29999999999999999"
      ]
     },
     "execution_count": 29,
     "metadata": {},
     "output_type": "execute_result"
    },
    {
     "data": {
      "image/png": "[encoded data removed]",
      "text/plain": [
       "<matplotlib.figure.Figure at 0x7ff5525fc810>"
      ]
     },
     "metadata": {},
     "output_type": "display_data"
    }
   ],
   "source": [
    "mean_reward(0.001, 0, plot = True)"
   ]
  },
  {
   "cell_type": "code",
   "execution_count": 27,
   "metadata": {
    "scrolled": true
   },
   "outputs": [
    {
     "data": {
      "text/plain": [
       "<matplotlib.colorbar.Colorbar at 0x7ff5526fe8d0>"
      ]
     },
     "execution_count": 27,
     "metadata": {},
     "output_type": "execute_result"
    },
    {
     "data": {
      "image/png": "[encoded data removed]",
      "text/plain": [
       "<matplotlib.figure.Figure at 0x7ff552680650>"
      ]
     },
     "metadata": {},
     "output_type": "display_data"
    }
   ],
   "source": [
    "x = np.linspace(0.01, 0.5, 5) # alpha\n",
    "y = np.linspace(0, 1, 10) # lambda\n",
    "\n",
    "reward = np.array([[mean_reward(a, l) for a in x] for l in y ])\n",
    "plt.pcolor(x, y, reward)\n",
    "plt.xlabel(\"$\\\\alpha$\")\n",
    "plt.ylabel(\"$\\\\lambda$\")\n",
    "plt.title(\"mean reward\")\n",
    "plt.colorbar()"
   ]
  },
  {
   "cell_type": "code",
   "execution_count": 102,
   "metadata": {
    "collapsed": true
   },
   "outputs": [],
   "source": [
    "def epsilon_greedy(state, value, params):\n",
    "    #print 1\n",
    "    #print state\n",
    "    value_now = value[state,:]\n",
    "    if rand() > params['epsilon']:\n",
    "        action = where(value_now == max(value_now))[0][0]\n",
    "    else:\n",
    "        # We deal with ties by selecting randomly.\n",
    "        action = randint(len(value_now)) \n",
    "    return action\n",
    "\n",
    "def q_learning(prev_state, action, reward, state, value, params):\n",
    "    # maximum value at current state\n",
    "    if state == None:\n",
    "        max_value = 0\n",
    "    else:\n",
    "        max_value = max(value[state,:])\n",
    "    # value of previous state-action pair\n",
    "    prev_value = value[prev_state, action]\n",
    "    # reward prediction error\n",
    "    delta = reward + params['gamma'] * max_value - prev_value  # gamma is the temporal discount factor\n",
    "    # update value of previous state-action pair\n",
    "    value[prev_state, action] = prev_value + params['alpha'] * delta  # alpha: learning rate\n",
    "    \n",
    "    return value\n",
    "def run_learning(value, params, n_episodes, max_steps):\n",
    "    reward_sums = np.zeros(n_episodes)\n",
    "    # Loop over episodes\n",
    "    for episode in xrange(n_episodes):\n",
    "        #params['epsilon']=params['epsilon']*params['gamma']\n",
    "        state = init_state(params)  # initialize state    \n",
    "        step = 0\n",
    "        reward_sum = 0\n",
    "        # Make sure to break after max number of steps\n",
    "        while step < max_steps:\n",
    "            action = call_policy(state, value, params)  # get action from policy\n",
    "            next_state, reward = update_state(state, action, params)  # update state based on action\n",
    "            value = update_value(state, action, reward, next_state, value, params)  # update value function\n",
    "            state = next_state\n",
    "            reward_sum += reward  # sum rewards obtained\n",
    "            step += 1\n",
    "            if next_state == None:\n",
    "                break  # episode ends\n",
    "\n",
    "        reward_sums[episode] = reward_sum\n",
    "\n",
    "    return reward_sums, value\n",
    "def modified_run_learning(value, params, n_episodes, max_steps):\n",
    "    reward_sums = np.zeros(n_episodes)\n",
    "    # Loop over episodes\n",
    "    for episode in xrange(n_episodes):\n",
    "        params['epsilon']=params['epsilon']*params['gamma']\n",
    "        state = init_state(params)  # initialize state    \n",
    "        step = 0\n",
    "        reward_sum = 0\n",
    "        # Make sure to break after max number of steps\n",
    "        while step < max_steps:\n",
    "            action = call_policy(state, value, params)  # get action from policy\n",
    "            next_state, reward = update_state(state, action, params)  # update state based on action\n",
    "            value = update_value(state, action, reward, next_state, value, params)  # update value function\n",
    "            state = next_state\n",
    "            reward_sum += reward  # sum rewards obtained\n",
    "            step += 1\n",
    "            if next_state == None:\n",
    "                break  # episode ends\n",
    "\n",
    "        reward_sums[episode] = reward_sum\n",
    "\n",
    "    return reward_sums, value"
   ]
  },
  {
   "cell_type": "code",
   "execution_count": 34,
   "metadata": {
    "collapsed": true
   },
   "outputs": [],
   "source": [
    "def sarsa(prev_state, action, reward, state, value, params):\n",
    "    # select the expected value at current state based on our\n",
    "    # policy by sampling from it\n",
    "    if state == None:\n",
    "        policy_value = 0\n",
    "    else:\n",
    "        # sample action from the policy for the next state\n",
    "        policy_action = call_policy(state, value, params)\n",
    "        # get the value based on the action sampled from the policy\n",
    "        policy_value = value[state, policy_action]\n",
    "    \n",
    "    # value of previous state-action pair\n",
    "    prev_value = value[prev_state, action]\n",
    "    # reward prediction error\n",
    "    delta = reward + params['gamma'] * policy_value - prev_value  # gamma is the temporal discount factor\n",
    "    \n",
    "    # update value of previous state-action pair\n",
    "    value[prev_state, action] = prev_value + params['alpha'] * delta  # alpha: learning rate\n",
    "    \n",
    "    return value\n",
    "def modified_sarsa(prev_state, action, reward, state, value, params):\n",
    "    # select the expected value at current state based on our\n",
    "    # policy by sampling from it\n",
    "    if state == None:\n",
    "        policy_value = 0\n",
    "    else:\n",
    "        # sample action from the policy for the next state\n",
    "        policy_action = call_policy(state, value, params)\n",
    "        # get the value based on the action sampled from the policy\n",
    "        policy_value = value[state, policy_action]\n",
    "    \n",
    "    # value of previous state-action pair\n",
    "    prev_value = value[prev_state, action]\n",
    "    #trace = params['lamda']*params['gamma']*trace trace[state]+=1\n",
    "    \n",
    "    Trace=params['Trace']\n",
    "    Trace[prev_state,action]+=1\n",
    "    #Trace=Trace*params['lamda']*params['gamma'] \n",
    "    # reward prediction error\n",
    "    delta = reward + params['gamma'] * policy_value - prev_value  # gamma is the temporal discount factor\n",
    "    # update value of previous state-action pair\n",
    "    env = params['environment']\n",
    "    #for s in range(0,env.n_states):\n",
    "    #    for a in range(0,env.n_actions):\n",
    "    #        value[s, a] = prev_value + params['alpha'] * (Trace[s,a]* delta)\n",
    "    \n",
    "    #delta = reward + params['gamma'] * policy_value - prev_value  # gamma is the temporal discount factor\n",
    "    #value[prev_state, action] = prev_value + params['alpha'] * delta  # alpha: learning rate\n",
    "    value += params['alpha']*delta*Trace\n",
    "    Trace = Trace * params['gamma']*params['lamda']\n",
    "    \n",
    "    params['Trace']=Trace\n",
    "    \n",
    "    return value"
   ]
  },
  {
   "cell_type": "code",
   "execution_count": 73,
   "metadata": {},
   "outputs": [],
   "source": [
    "def get_reward(a, l):\n",
    "    env = worlds.quentins_world()\n",
    "    params = default_params(environment=env)\n",
    "    params['learning_rule'] = 'sarsa'\n",
    "    params['policy'] = 'epsilon_greedy'\n",
    "    params['epsilon'] = 0.02\n",
    "    params['beta'] = 10\n",
    "    params['gamma'] = 0.8\n",
    "    params['alpha'] = a #0.1\n",
    "    params[\"lamda\"] = l\n",
    "    n_episodes = 1000\n",
    "    max_steps = 300\n",
    "    value = np.ones((env.n_states, env.n_actions))\n",
    "    reward_sums, value = run_learning(value, params, n_episodes, max_steps)\n",
    "    return reward_sums"
   ]
  },
  {
   "cell_type": "code",
   "execution_count": 142,
   "metadata": {},
   "outputs": [
    {
     "name": "stdout",
     "output_type": "stream",
     "text": [
      "0.503\n"
     ]
    },
    {
     "data": {
      "text/plain": [
       "[<matplotlib.lines.Line2D at 0x7ff54dcc3ed0>]"
      ]
     },
     "execution_count": 142,
     "metadata": {},
     "output_type": "execute_result"
    },
    {
     "data": {
      "image/png": "[encoded data removed]",
      "text/plain": [
       "<matplotlib.figure.Figure at 0x7ff54dd4b1d0>"
      ]
     },
     "metadata": {},
     "output_type": "display_data"
    }
   ],
   "source": [
    "r = get_reward(0.9, 0)\n",
    "print mean(r)\n",
    "plt.plot(r)"
   ]
  },
  {
   "cell_type": "code",
   "execution_count": 146,
   "metadata": {},
   "outputs": [],
   "source": [
    "x = np.linspace(0.01, 1, 5) # alpha\n",
    "y = np.linspace(0, 1, 10) # lambda\n",
    "\n",
    "# reward = np.array([[mean(get_reward(a, l)[:100]) for a in x] for l in y ])\n",
    "first_max_time = np.array([[argmax(np.array(get_reward(a, l)) > 0.5) for a in x] for l in y ])"
   ]
  },
  {
   "cell_type": "code",
   "execution_count": 148,
   "metadata": {},
   "outputs": [
    {
     "data": {
      "text/plain": [
       "<matplotlib.colorbar.Colorbar at 0x7ff54d784550>"
      ]
     },
     "execution_count": 148,
     "metadata": {},
     "output_type": "execute_result"
    },
    {
     "data": {
      "image/png": "[encoded data removed]",
      "text/plain": [
       "<matplotlib.figure.Figure at 0x7ff54d929c10>"
      ]
     },
     "metadata": {},
     "output_type": "display_data"
    }
   ],
   "source": [
    "plt.pcolor(x, y, np.flipud(first_max_time))\n",
    "plt.xlabel(\"$\\\\alpha$\")\n",
    "plt.ylabel(\"$\\\\lambda$\")\n",
    "plt.title(\"first episode to reach 0.5\")\n",
    "plt.colorbar()"
   ]
  },
  {
   "cell_type": "code",
   "execution_count": 144,
   "metadata": {},
   "outputs": [
    {
     "data": {
      "text/plain": [
       "<matplotlib.colorbar.Colorbar at 0x7ff54da56310>"
      ]
     },
     "execution_count": 144,
     "metadata": {},
     "output_type": "execute_result"
    },
    {
     "data": {
      "image/png": "[encoded data removed]",
      "text/plain": [
       "<matplotlib.figure.Figure at 0x7ff54dd0f2d0>"
      ]
     },
     "metadata": {},
     "output_type": "display_data"
    }
   ],
   "source": [
    "plt.pcolor(x, y, np.flipud(reward))\n",
    "plt.xlabel(\"$\\\\alpha$\")\n",
    "plt.ylabel(\"$\\\\lambda$\")\n",
    "plt.title(\"mean reward of first 200 episodes\")\n",
    "plt.colorbar()"
   ]
  }
 ],
 "metadata": {
  "kernelspec": {
   "display_name": "Python 2",
   "language": "python",
   "name": "python2"
  },
  "language_info": {
   "codemirror_mode": {
    "name": "ipython",
    "version": 2
   },
   "file_extension": ".py",
   "mimetype": "text/x-python",
   "name": "python",
   "nbconvert_exporter": "python",
   "pygments_lexer": "ipython2",
   "version": "2.7.13"
  }
 },
 "nbformat": 4,
 "nbformat_minor": 1
}
