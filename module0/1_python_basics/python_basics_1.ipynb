{
 "cells": [
  {
   "cell_type": "markdown",
   "metadata": {},
   "source": [
    "# Simple Arhithmetic\n",
    "- Calculate the following expressions:\n",
    "\n",
    "    - 3/5 + 2\n",
    "    - 3/float(5) + 2\n",
    "    - 3/5. + 2\n",
    "    - $3^2$\n",
    "    - 14 // 5\n",
    "    - $5 \\mod 2$"
   ]
  },
  {
   "cell_type": "code",
   "execution_count": 2,
   "metadata": {},
   "outputs": [
    {
     "data": {
      "text/plain": [
       "2"
      ]
     },
     "execution_count": 2,
     "metadata": {},
     "output_type": "execute_result"
    }
   ],
   "source": [
    "3/5+2"
   ]
  },
  {
   "cell_type": "code",
   "execution_count": 4,
   "metadata": {},
   "outputs": [
    {
     "data": {
      "text/plain": [
       "2.6"
      ]
     },
     "execution_count": 4,
     "metadata": {},
     "output_type": "execute_result"
    }
   ],
   "source": [
    "3 / float(5) + 2"
   ]
  },
  {
   "cell_type": "code",
   "execution_count": 5,
   "metadata": {},
   "outputs": [
    {
     "data": {
      "text/plain": [
       "2.6"
      ]
     },
     "execution_count": 5,
     "metadata": {},
     "output_type": "execute_result"
    }
   ],
   "source": [
    "3/5. + 2"
   ]
  },
  {
   "cell_type": "code",
   "execution_count": 8,
   "metadata": {},
   "outputs": [
    {
     "data": {
      "text/plain": [
       "9"
      ]
     },
     "execution_count": 8,
     "metadata": {},
     "output_type": "execute_result"
    }
   ],
   "source": [
    "3**2"
   ]
  },
  {
   "cell_type": "code",
   "execution_count": 9,
   "metadata": {},
   "outputs": [
    {
     "data": {
      "text/plain": [
       "2"
      ]
     },
     "execution_count": 9,
     "metadata": {},
     "output_type": "execute_result"
    }
   ],
   "source": [
    "14//5"
   ]
  },
  {
   "cell_type": "code",
   "execution_count": 12,
   "metadata": {},
   "outputs": [
    {
     "data": {
      "text/plain": [
       "1"
      ]
     },
     "execution_count": 12,
     "metadata": {},
     "output_type": "execute_result"
    }
   ],
   "source": [
    "5 % 2"
   ]
  },
  {
   "cell_type": "markdown",
   "metadata": {},
   "source": [
    "# Script\n",
    "\n",
    "- Create a ```.py``` file with the following content and make sure you understand every line. Execute it."
   ]
  },
  {
   "cell_type": "markdown",
   "metadata": {},
   "source": [
    "    a = 3 -4 + 10\n",
    "    b = 5 * 6\n",
    "    c = 7.0/8.0 \n",
    "    print(\"Hello World, these are the values:\" , a , b, c)\n",
    "    print(\"Increment\" , a , \"by one : \" )\n",
    "    a =a +1\n",
    "    print(a)\n",
    "    print(\"The sum of\" , a , \"and\" , b, \" is?\")\n",
    "    a =' are '\n",
    "    b = \"you\"\n",
    "    c = \"years old. Don't you think?\"  \n",
    "    d = b +a\n",
    "    number = input(\"Input a number\") \n",
    "    print(d, number , c)"
   ]
  },
  {
   "cell_type": "markdown",
   "metadata": {},
   "source": [
    "N.B.: sometimes one finds `input` instead of `raw_input`. Please be very careful using `input` because `input(x)` is equivalent to `eval(raw input(x))`, which implies that\n",
    "- exceptions are raised for non-well-formed Python expressions, and, more ominously,\n",
    "- well formed Python expressions can wreak havoc.  The user could, after all, type a string consisting of the Python expressions to delete all files from an arbitrary directory on the system."
   ]
  },
  {
   "cell_type": "markdown",
   "metadata": {},
   "source": [
    "# Logical expressions"
   ]
  },
  {
   "cell_type": "markdown",
   "metadata": {},
   "source": [
    "- Write a program that asks a user to input a number.  If the number equals \"5\", output \"My lucky number\".  If the number is larger than 10, output \"What a large number!\".  In all other cases, output \"That's not my lucky number.\""
   ]
  },
  {
   "cell_type": "code",
   "execution_count": 2,
   "metadata": {},
   "outputs": [
    {
     "name": "stdout",
     "output_type": "stream",
     "text": [
      "Your number1\n",
      "That's not my lucky number.\n"
     ]
    }
   ],
   "source": [
    "number = input(\"Your number\")\n",
    "if number == 5:\n",
    "    print(\"My lucky number\")\n",
    "elif number > 10:\n",
    "    print(\"What a large number!\")\n",
    "else:\n",
    "    print(\"That's not my lucky number.\")"
   ]
  },
  {
   "cell_type": "markdown",
   "metadata": {},
   "source": [
    "  - Objects can have equal values or can be identical.  A test for   having equal values is ==; a test for being the same object is ```is```.  For example define:\n",
    "\n",
    "\n",
    "    a = 5\n",
    "    b = 5.0\n",
    "    c = a\n",
    "    \n",
    "Try the following:\n",
    "\n",
    "\n",
    "    a == b\n",
    "    a is b\n",
    "    a is c"
   ]
  },
  {
   "cell_type": "code",
   "execution_count": 18,
   "metadata": {},
   "outputs": [
    {
     "name": "stdout",
     "output_type": "stream",
     "text": [
      "True\n",
      "False\n",
      "True\n"
     ]
    }
   ],
   "source": [
    "a = 5\n",
    "b = 5.0\n",
    "c = a\n",
    "print(a == b)\n",
    "print(a is b)\n",
    "print(a is c)"
   ]
  },
  {
   "cell_type": "markdown",
   "metadata": {},
   "source": [
    "# Program flow\n",
    "\n",
    "- Make a variable ```word1='reverse me!'```. Make a for loop that inverts the letter order of ```word1```."
   ]
  },
  {
   "cell_type": "code",
   "execution_count": 19,
   "metadata": {
    "scrolled": true
   },
   "outputs": [
    {
     "name": "stdout",
     "output_type": "stream",
     "text": [
      "!em esrever\n"
     ]
    }
   ],
   "source": [
    "word1= \"reverse me!\"\n",
    "word2 = \"\"\n",
    "for i in range(len(word1) - 1, -1, -1):\n",
    "    word2 += word1[i]\n",
    "print(word2)"
   ]
  },
  {
   "cell_type": "markdown",
   "metadata": {},
   "source": [
    "- Find the smallest Fibonacci number which is bigger than 1000000.\n",
    "     Hint: The sequence of Fibonacci numbers $(F_n)$ is defined as: $F_0 = 0$, $F_1=1$ and $F_{n+1}=F_{n-1} + F_n$\n"
   ]
  },
  {
   "cell_type": "code",
   "execution_count": 21,
   "metadata": {},
   "outputs": [
    {
     "name": "stdout",
     "output_type": "stream",
     "text": [
      "1346269\n"
     ]
    }
   ],
   "source": [
    "F_n_1 = 0\n",
    "F_n = 1\n",
    "\n",
    "while F_n <= 1000000:\n",
    "    F_n, F_n_1 = F_n + F_n_1, F_n\n",
    "    \n",
    "print(F_n)"
   ]
  },
  {
   "cell_type": "markdown",
   "metadata": {},
   "source": [
    "- According to the Leibniz formula, $\\pi$ can be approximated by $\\pi_N = 4 \\sum_{n=0}^N \\, \\frac{(-1)^n}{2n+1} .$ Write a for loop which creates a list containing series $\\pi_N$ up to an arbitrary integer $N$. "
   ]
  },
  {
   "cell_type": "code",
   "execution_count": 34,
   "metadata": {},
   "outputs": [
    {
     "data": {
      "text/plain": [
       "3.1425916543395442"
      ]
     },
     "execution_count": 34,
     "metadata": {},
     "output_type": "execute_result"
    }
   ],
   "source": [
    "N = 1000\n",
    "pi = [4]\n",
    "for n in range(1, N+1):\n",
    "    pi.append(pi[-1] + 4 * (-1)**n / (2*n + 1.))  \n",
    "pi[-1]"
   ]
  },
  {
   "cell_type": "markdown",
   "metadata": {},
   "source": [
    "- The *Bisection method* is a simple way to numerically solve an equation $f(x)=0$. The input of the algorithm is an interval $[a,b]$, where $f(a)$ and $f(b)$ have different signs, which means that the solution is somewhere is this interval. Then it computes the middle of the interval $c=\\frac{a+b}{2}$. If $f(a)\\cdot f(c) < 0$ set the new interval to $[a,c]$, if $f(c)\\cdot f(b) < 0$ set the new interval to $[c,b]$. Write a while-loop which repeats this bisection untill the error is smaller than a given tolerance, e.g. $b-a < 10^{-7}$.\n",
    "As an example, you could try to solve $\\sin(x)=\\log(x)$. The solution is somewhere between $x=0$ and $x=5$. The functions are available if you execute: from math import sin, log\n"
   ]
  },
  {
   "cell_type": "code",
   "execution_count": 70,
   "metadata": {},
   "outputs": [
    {
     "data": {
      "text/plain": [
       "0.0"
      ]
     },
     "execution_count": 70,
     "metadata": {},
     "output_type": "execute_result"
    }
   ],
   "source": [
    "log(1)"
   ]
  },
  {
   "cell_type": "code",
   "execution_count": 77,
   "metadata": {},
   "outputs": [
    {
     "name": "stdout",
     "output_type": "stream",
     "text": [
      "-2.03029023593e-08\n"
     ]
    }
   ],
   "source": [
    "from math import sin, log\n",
    "\n",
    "def foo(x):\n",
    "    return sin(x) - log(x)\n",
    "    \n",
    "def inner_bisection(fun, a, b):\n",
    "    c = (a + b) / 2.0\n",
    "    fa, fb, fc = fun(a), fun(b), fun(c)\n",
    "    if fa * fc <= 0:\n",
    "        return a, c\n",
    "    elif fb * fc < 0:\n",
    "        return c, b\n",
    "    \n",
    "def bisection(fun, a, b):\n",
    "    while b - a > 1e-7:\n",
    "        a, b = inner_bisection(fun, a, b)\n",
    "    return (a + b) / 2.0\n",
    "\n",
    "print(foo(bisection(foo, 0.1, 5)))"
   ]
  },
  {
   "cell_type": "markdown",
   "metadata": {},
   "source": [
    "- Implement the Bubble Sort algorithm to sort a list of numbers. Starting from the beginning of the list, compare every adjacent pair, swap their position if they are not in the right order. After each iteration, one less element (the last one) is needed to be compared until there are no more elements left to be compared."
   ]
  },
  {
   "cell_type": "code",
   "execution_count": 20,
   "metadata": {},
   "outputs": [
    {
     "data": {
      "text/plain": [
       "[1, 2, 3]"
      ]
     },
     "execution_count": 20,
     "metadata": {},
     "output_type": "execute_result"
    }
   ],
   "source": [
    "def bubblesort(A):\n",
    "    n = len(A)\n",
    "    while n > 0:\n",
    "        newn = 0\n",
    "        for i in range(1, n):\n",
    "            if A[i-1] > A[i]:\n",
    "                A[i-1], A[i] = A[i], A[i-1]\n",
    "                newn = i\n",
    "        n = newn\n",
    "    return A\n",
    "\n",
    "bubblesort([3, 2, 1])"
   ]
  },
  {
   "cell_type": "markdown",
   "metadata": {},
   "source": [
    "# Lists\n",
    "\n",
    "- \"Flatten\" a list of lists. For example: transform [ [a,b,c],[d,e],[f] ] into [ a,b,c,d,e,f ]"
   ]
  },
  {
   "cell_type": "code",
   "execution_count": 70,
   "metadata": {},
   "outputs": [
    {
     "data": {
      "text/plain": [
       "[1, 2, 3, 4, 5, 6]"
      ]
     },
     "execution_count": 70,
     "metadata": {},
     "output_type": "execute_result"
    }
   ],
   "source": [
    "a = [[1,2,3], [4,5], [6]]\n",
    "[item for sublist in a for item in sublist]"
   ]
  },
  {
   "cell_type": "markdown",
   "metadata": {},
   "source": [
    "- Use appropriate slices of the string\n",
    "\n",
    "```s = \"Lorem ipsum dolor sit amet, consectetur adipiscing elit.\"\n",
    "```\n",
    "\n",
    "to print 'Lorem ipsum', 'elit', 'Lrmism', and 'muspi meroL'.\n"
   ]
  },
  {
   "cell_type": "code",
   "execution_count": 126,
   "metadata": {},
   "outputs": [
    {
     "name": "stdout",
     "output_type": "stream",
     "text": [
      "Lorem ipsum\n",
      "elit\n",
      "Lrmism\n",
      "muspi meroL\n"
     ]
    }
   ],
   "source": [
    "s = \"Lorem ipsum dolor sit amet, consectetur adipiscing elit.\"\n",
    "print(s[:11])\n",
    "print(s[-5:-1])\n",
    "print(s[:11:2])\n",
    "print(s[10::-1])"
   ]
  },
  {
   "cell_type": "markdown",
   "metadata": {},
   "source": [
    "# Functions\n",
    "\n",
    "Points may be given in polar $(r,θ)$ or cartesian coordinates $(x,y)$:\n",
    "\n",
    "![carpol](fig/pol2cart.svg)\n",
    "\n",
    "- Write a function ```𝚙𝚘𝚕𝟸𝚌𝚊𝚛𝚝``` that takes a tuple $(𝚛,θ)$ in polar coordinates and returns a tuple in cartesian coordinates.\n",
    "- Write the inverse function ```𝚌𝚊𝚛𝚝𝟸𝚙𝚘𝚕``` such that ```𝚙𝚘𝚕𝟸𝚌𝚊𝚛𝚝(𝚌𝚊𝚛𝚝𝟸𝚙𝚘𝚕((𝚡,𝚢)))``` is $(𝚡,𝚢)$ for any input $(𝚡,𝚢)$.\n",
    "- Extend the two functions, such that they can in addition handle lists of tuples."
   ]
  },
  {
   "cell_type": "code",
   "execution_count": 108,
   "metadata": {
    "collapsed": true
   },
   "outputs": [],
   "source": [
    "import math\n",
    "\n",
    "def pol2cart(args):\n",
    "    if isinstance(args, tuple):\n",
    "        r, theta = args\n",
    "        return r * math.cos(theta), r * math.sin(theta)\n",
    "    else: \n",
    "        return [pol2cart(arg) for arg in args]\n",
    "\n",
    "def cart2pol(args):\n",
    "    if isinstance(args, tuple):\n",
    "        x, y = args\n",
    "        return math.sqrt(x**2 + y**2), math.atan2(y, x)\n",
    "    else:\n",
    "        return [cart2pol(arg) for arg in args]"
   ]
  },
  {
   "cell_type": "code",
   "execution_count": 110,
   "metadata": {},
   "outputs": [
    {
     "name": "stdout",
     "output_type": "stream",
     "text": [
      "(6.123233995736766e-17, 1.0)\n",
      "(1.0, 1.5707963267948966)\n",
      "[(6.123233995736766e-17, 1.0), (0.7071067811865476, 0.7071067811865475)]\n",
      "[(1.0, 1.5707963267948966), (1.0, 0.0)]\n"
     ]
    }
   ],
   "source": [
    "print(pol2cart((1, math.pi / 2)))\n",
    "print(cart2pol((0, 1)))\n",
    "print(pol2cart([(1, math.pi / 2), (1, math.pi / 4)]))\n",
    "print(cart2pol([(0, 1), (1, 0)]))"
   ]
  },
  {
   "cell_type": "markdown",
   "metadata": {},
   "source": [
    "# Use of modules\n",
    "\n",
    "- Import the basic math module (import math) to calculate the following simple expressions.\n",
    "    \n",
    "    Hint: Most functions in a module can be called with module.function(params), e.g. math.pow(a,b) for $a^b$.\n",
    "    \n",
    "    - $\\sin(\\pi)$\n",
    "    - $\\cos(\\pi)$\n",
    "    - $e^{10}$\n",
    "    - $2.42^{1.32}$\n"
   ]
  },
  {
   "cell_type": "code",
   "execution_count": 45,
   "metadata": {},
   "outputs": [
    {
     "name": "stdout",
     "output_type": "stream",
     "text": [
      "1.22464679915e-16\n",
      "-1.0\n",
      "22026.4657948\n",
      "3.21097025958\n"
     ]
    }
   ],
   "source": [
    "from math import sin, cos, pow, pi, e\n",
    "print(sin(pi))\n",
    "print(cos(pi))\n",
    "print(pow(e, 10))\n",
    "print(pow(2.42, 1.32))"
   ]
  },
  {
   "cell_type": "markdown",
   "metadata": {},
   "source": [
    "- Use the cmath module to calculate the following complex numbers\n",
    "\n",
    "    - $\\sqrt{-1}$\n",
    "    - $i^2$\n",
    "    - $\\sin(2i)$"
   ]
  },
  {
   "cell_type": "code",
   "execution_count": 58,
   "metadata": {
    "scrolled": true
   },
   "outputs": [
    {
     "data": {
      "text/plain": [
       "(-1+0j)"
      ]
     },
     "execution_count": 58,
     "metadata": {},
     "output_type": "execute_result"
    }
   ],
   "source": [
    "import cmath\n",
    "cmath.sqrt(-1)\n",
    "1j**2\n",
    "cmath.sin(2j)"
   ]
  },
  {
   "cell_type": "markdown",
   "metadata": {},
   "source": [
    "- Import the random module and print a random number in the range 1...6."
   ]
  },
  {
   "cell_type": "code",
   "execution_count": 46,
   "metadata": {},
   "outputs": [
    {
     "data": {
      "text/plain": [
       "1"
      ]
     },
     "execution_count": 46,
     "metadata": {},
     "output_type": "execute_result"
    }
   ],
   "source": [
    "import random\n",
    "random.sample(range(1, 7), 1)[0]"
   ]
  },
  {
   "cell_type": "markdown",
   "metadata": {},
   "source": [
    "- Import the ```antigravity``` module"
   ]
  },
  {
   "cell_type": "code",
   "execution_count": 47,
   "metadata": {
    "collapsed": true
   },
   "outputs": [],
   "source": [
    "import antigravity"
   ]
  },
  {
   "cell_type": "markdown",
   "metadata": {},
   "source": [
    "# [Advanced optional exercise] List comprehensions"
   ]
  },
  {
   "cell_type": "markdown",
   "metadata": {},
   "source": [
    "- Create a list $[x_0,x_1,x_2,...]$ where $x_n = 2^x$."
   ]
  },
  {
   "cell_type": "code",
   "execution_count": 33,
   "metadata": {},
   "outputs": [
    {
     "data": {
      "text/plain": [
       "[1, 2, 4, 8, 16, 32, 64, 128, 256, 512]"
      ]
     },
     "execution_count": 33,
     "metadata": {},
     "output_type": "execute_result"
    }
   ],
   "source": [
    "[2**n for n in range(0, 10)]"
   ]
  },
  {
   "cell_type": "markdown",
   "metadata": {},
   "source": [
    "- Create a list containing all numbers between 0 and 100 which are divisible by 3 and 4 but not divisible by 10."
   ]
  },
  {
   "cell_type": "code",
   "execution_count": 64,
   "metadata": {},
   "outputs": [
    {
     "data": {
      "text/plain": [
       "[12, 24, 36, 48, 72, 84, 96]"
      ]
     },
     "execution_count": 64,
     "metadata": {},
     "output_type": "execute_result"
    }
   ],
   "source": [
    "[i for i in range(0, 101) if (i % 3 == 0 and i % 4 == 0 and i % 10 != 0)]"
   ]
  },
  {
   "cell_type": "markdown",
   "metadata": {},
   "source": [
    "- Create a list $[x_0,x_1,x_2,...]$ where $x_n=\\sum_{i=0}^{n} n$. Hint: Use a nested list comprehension and the ```sum```-function."
   ]
  },
  {
   "cell_type": "code",
   "execution_count": 86,
   "metadata": {},
   "outputs": [
    {
     "data": {
      "text/plain": [
       "[0, 2, 6, 12, 20, 30, 42, 56, 72, 90, 110]"
      ]
     },
     "execution_count": 86,
     "metadata": {},
     "output_type": "execute_result"
    }
   ],
   "source": [
    "N = 10\n",
    "[sum(n for i in range(0, n+1)) for n in range(0, N+1)]"
   ]
  }
 ],
 "metadata": {
  "anaconda-cloud": {},
  "kernelspec": {
   "display_name": "Python 2",
   "language": "python",
   "name": "python2"
  },
  "language_info": {
   "codemirror_mode": {
    "name": "ipython",
    "version": 2
   },
   "file_extension": ".py",
   "mimetype": "text/x-python",
   "name": "python",
   "nbconvert_exporter": "python",
   "pygments_lexer": "ipython2",
   "version": "2.7.13"
  },
  "toc": {
   "colors": {
    "hover_highlight": "#DAA520",
    "running_highlight": "#FF0000",
    "selected_highlight": "#FFD700"
   },
   "moveMenuLeft": true,
   "navigate_menu": false,
   "number_sections": true,
   "sideBar": true,
   "threshold": 4,
   "toc_cell": false,
   "toc_section_display": "block",
   "toc_window_display": false
  }
 },
 "nbformat": 4,
 "nbformat_minor": 1
}
