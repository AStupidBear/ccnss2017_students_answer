{
 "cells": [
  {
   "cell_type": "markdown",
   "metadata": {},
   "source": [
    "# Find Errors"
   ]
  },
  {
   "cell_type": "markdown",
   "metadata": {},
   "source": [
    "*Learned Skills: basic python skills*"
   ]
  },
  {
   "cell_type": "markdown",
   "metadata": {},
   "source": [
    "Note: to use the value of a variable as part of a string, you can write `%X` in the string as a placeholder for the variable, and append `% variable` to the string to specify which variable should be used. `%X` specifies the type of the variable, e.g. use `%d` for integers and `%g` for floats. E.g.:\n",
    "\n",
    "`s = \"integer %d, float %g\" % (1, 3.14)`\n",
    "\n",
    "sets `s` to  `\"integer 1, float 3.14\"`"
   ]
  },
  {
   "cell_type": "markdown",
   "metadata": {},
   "source": [
    "Find 3 programming errors in the following code:"
   ]
  },
  {
   "cell_type": "markdown",
   "metadata": {},
   "source": [
    "```\n",
    "import random\n",
    "\n",
    "def compute(n):\n",
    "    i = 0; s = 0\n",
    "    while i <= n:\n",
    "        s += random.random()\n",
    "         i += 1\n",
    "    return s/n\n",
    "\n",
    "n = raw_input(\"Enter a number: \")\n",
    "\n",
    "print('the average of %d random numbers is %g' % (n, compute(n)))\n",
    "```"
   ]
  },
  {
   "cell_type": "code",
   "execution_count": 15,
   "metadata": {},
   "outputs": [
    {
     "name": "stdout",
     "output_type": "stream",
     "text": [
      "Enter a number: 1000000\n",
      "the average of 1000000 random numbers is 0.499687\n"
     ]
    }
   ],
   "source": [
    "import random\n",
    "\n",
    "def compute(n):\n",
    "    i = 0; s = 0\n",
    "    while i <= n:\n",
    "        s += random.random()\n",
    "        i += 1\n",
    "    return s/n\n",
    "\n",
    "n = raw_input(\"Enter a number: \")\n",
    "print('the average of %d random numbers is %g' % (int(n), compute(int(n))))"
   ]
  },
  {
   "cell_type": "markdown",
   "metadata": {},
   "source": [
    "# Number game"
   ]
  },
  {
   "cell_type": "markdown",
   "metadata": {},
   "source": [
    "*Learned Skills: Random numbers; Loops*"
   ]
  },
  {
   "cell_type": "markdown",
   "metadata": {},
   "source": [
    "Implement the following guessing game: Someone writes down a secret number between 00–99. The other players then take turns guessing numbers, with a catch: if someone says the secret number, that person loses. If the guessed number is not the secret one, it splits the range.\n",
    "The chooser then states the part which contains the chosen number. If the new region\n",
    "only has one number, the chooser loses. Here's an example:\n",
    "\n",
    "* Chooser writes down (secretly) his number (let’s say, 30).\n",
    " * Chooser: “State a number between 00 and 99.”\n",
    " * Player: “42”.\n",
    " * Chooser: “State a number between 00 and 42.”\n",
    " * Player: “26”.\n",
    " * Chooser: “State a number between 26 and 42.”\n",
    "\n",
    "    $\\vdots$\n",
    "    \n",
    " * Chooser: “State a number between 29 and 32.”\n",
    " * Player: “31”.\n",
    "* Chooser loses.\n",
    "\n",
    "Implement this game in Python, where the computer is the chooser.\n",
    "\n",
    "**Useful:** $\\mathtt{random.randint()}$ and $\\mathtt{input()}$."
   ]
  },
  {
   "cell_type": "code",
   "execution_count": 1,
   "metadata": {},
   "outputs": [
    {
     "name": "stdout",
     "output_type": "stream",
     "text": [
      "State a number between 0 and 99.40\n",
      "State a number between 0 and 40.35\n",
      "State a number between 0 and 35.32\n",
      "State a number between 0 and 32.29\n",
      "State a number between 29 and 32.30\n",
      "loser: chooser\n"
     ]
    }
   ],
   "source": [
    "a, b = 0, 99\n",
    "secret = 30\n",
    "loser = \"chooser\"\n",
    "\n",
    "while b - a - 1 > 1:\n",
    "    c = input(\"State a number between %d and %d.\" % (a, b))\n",
    "    if secret < c:\n",
    "        a, b = a, c\n",
    "    elif c < secret:\n",
    "        a, b = c, b\n",
    "    else:\n",
    "        looser = \"player\"\n",
    "        break\n",
    "\n",
    "print(\"loser: \" + loser)       "
   ]
  },
  {
   "cell_type": "markdown",
   "metadata": {},
   "source": [
    "# Rock-paper-scissors"
   ]
  },
  {
   "cell_type": "markdown",
   "metadata": {},
   "source": [
    "*Learned Skills: Random choices*"
   ]
  },
  {
   "cell_type": "markdown",
   "metadata": {},
   "source": [
    "- Implement the game of rock-paper-scissors. \n",
    "- Extra: make it rock-paper-scissors-lizard-spock (if you do not know it, Wikipedia should help).\n",
    "\n",
    "**Useful:** $\\mathtt{random.choice()}$"
   ]
  },
  {
   "cell_type": "code",
   "execution_count": 31,
   "metadata": {},
   "outputs": [
    {
     "data": {
      "text/plain": [
       "'scissors'"
      ]
     },
     "execution_count": 31,
     "metadata": {},
     "output_type": "execute_result"
    }
   ],
   "source": [
    "import random\n",
    "random.choice([\"rock\", \"paper\", \"scissors\"])"
   ]
  },
  {
   "cell_type": "markdown",
   "metadata": {},
   "source": [
    "# Dice Simulation"
   ]
  },
  {
   "cell_type": "markdown",
   "metadata": {},
   "source": [
    "*Learned Skills: Random numbers; Monte-Carlo Simulation*"
   ]
  },
  {
   "cell_type": "markdown",
   "metadata": {},
   "source": [
    "Estimate the chance of an event in a dice game. What is the probability of getting\n",
    "at least one 6 when throwing two dice? While this question can be analyzed theoretically, here we want to simulate it."
   ]
  },
  {
   "cell_type": "markdown",
   "metadata": {},
   "source": [
    "1\\. Create a script that $n$ times draws two uniform random integers\n",
    "between 1 and 6 and counts how many times $p$ a 6 shows up. Write out the\n",
    "estimated probability $p/n$ together with the exact result 11/36. Run the script a\n",
    "few times with different n values and determine from the experiments how large\n",
    "n must be to get at least three decimals (0.306) of the probability correct. Use\n",
    "the random module to draw random uniformly distributed integers in a specified\n",
    "interval."
   ]
  },
  {
   "cell_type": "markdown",
   "metadata": {},
   "source": [
    "2\\. Generalize the script to an arbitrary number of dice, $N$."
   ]
  },
  {
   "cell_type": "markdown",
   "metadata": {},
   "source": [
    "3\\. Determine if you win or lose a hazard game. Somebody suggests the following\n",
    "game. You pay 1 unit of money and are allowed to throw four dice. If the sum of\n",
    "the eyes on the dice is less than 9, you win 10 units of money, otherwise you lose\n",
    "your investment. Should you play this game?"
   ]
  },
  {
   "cell_type": "code",
   "execution_count": 217,
   "metadata": {},
   "outputs": [
    {
     "name": "stdout",
     "output_type": "stream",
     "text": [
      "0.305444\n"
     ]
    }
   ],
   "source": [
    "n = 1000000\n",
    "N = 2\n",
    "count6 = 0.0\n",
    "for i in range(n):\n",
    "    for dice in range(N):\n",
    "        r = random.randint(1, 6)\n",
    "        if r == 6:\n",
    "            count6 += 1\n",
    "            break\n",
    "print count6 / n"
   ]
  },
  {
   "cell_type": "code",
   "execution_count": 233,
   "metadata": {},
   "outputs": [],
   "source": [
    "n = 1000000\n",
    "N = 4\n",
    "count6 = 0.0\n",
    "fun = lambda :sum(random.randint(1, 6) for i in range(N))\n",
    "p = sum(fun() < 9 for i in range(n)) / float(n)"
   ]
  },
  {
   "cell_type": "code",
   "execution_count": 236,
   "metadata": {},
   "outputs": [
    {
     "data": {
      "text/plain": [
       "-0.401204"
      ]
     },
     "execution_count": 236,
     "metadata": {},
     "output_type": "execute_result"
    }
   ],
   "source": [
    "p * 10 + (1 - p) * (-1)"
   ]
  },
  {
   "cell_type": "markdown",
   "metadata": {},
   "source": [
    "# Calculating a Histogram"
   ]
  },
  {
   "cell_type": "markdown",
   "metadata": {},
   "source": [
    "*Learned Skills: Creating a function; List handling; Random numbers*"
   ]
  },
  {
   "cell_type": "markdown",
   "metadata": {},
   "source": [
    "1\\. Write a function $\\mathtt{histgram(data, numbins)}$ which calculates the histogram of a\n",
    "given data set, where ```numbins``` gives the number of intervals in which the data\n",
    "range is divided.\n",
    "\n",
    "The function should return a tuple of two lists of equal lengths. The first list\n",
    "contains the midpoints of the intervals and the second list contains the counts of\n",
    "data points in the interval."
   ]
  },
  {
   "cell_type": "code",
   "execution_count": 107,
   "metadata": {},
   "outputs": [],
   "source": [
    "def histgram(data, nbins):\n",
    "    xmin, xmax = min(data), max(data)\n",
    "    xstep = (xmax - xmin) / float(nbins)\n",
    "    midpts = [xmin + xstep + n * xstep for n in range(0, nbins)]\n",
    "    counts = [0 for i in range(0, nbins)]\n",
    "    for x in data:\n",
    "        i = int((x - xmin - 1e-5) // xstep)\n",
    "        if i > nbins -1:\n",
    "            print(i)\n",
    "        counts[i] += 1\n",
    "    return midpts, counts"
   ]
  },
  {
   "cell_type": "code",
   "execution_count": 108,
   "metadata": {},
   "outputs": [
    {
     "data": {
      "text/plain": [
       "([0.099829942599831523,\n",
       "  0.19954840005203289,\n",
       "  0.29926685750423426,\n",
       "  0.39898531495643563,\n",
       "  0.498703772408637,\n",
       "  0.59842222986083837,\n",
       "  0.6981406873130398,\n",
       "  0.797859144765241,\n",
       "  0.89757760221744243,\n",
       "  0.99729605966964385],\n",
       " [87, 96, 109, 114, 90, 101, 96, 98, 94, 115])"
      ]
     },
     "execution_count": 108,
     "metadata": {},
     "output_type": "execute_result"
    }
   ],
   "source": [
    "import numpy as np\n",
    "histgram(np.random.rand(1000), 10)"
   ]
  },
  {
   "cell_type": "markdown",
   "metadata": {},
   "source": [
    "2\\. Give a pseudo-graphical representation of the distribution, by drawing a number of\n",
    "stars corresponding to the number of data elements in a given interval. Example:\n",
    "\n",
    "0.0\n",
    "0.5\n",
    "1.0\n",
    "1.5\n",
    "2.0\n",
    "2.5\n",
    "3.0\n",
    "3.5\n",
    "4.0\n",
    "\n",
    "+++\n",
    "\n",
    "+++++\n",
    "\n",
    "++++++++\n",
    "\n",
    "++++++++++++++++++\n",
    "\n",
    "+++++++++++++\n",
    "\n",
    "++++++++++\n",
    "\n",
    "++++++++\n",
    "\n",
    "++++++\n",
    "\n",
    "++"
   ]
  },
  {
   "cell_type": "code",
   "execution_count": 112,
   "metadata": {},
   "outputs": [
    {
     "name": "stdout",
     "output_type": "stream",
     "text": [
      "+++\n",
      "+++++\n",
      "++++++++\n",
      "+++++++++\n",
      "++++\n",
      "++++\n",
      "++\n"
     ]
    }
   ],
   "source": [
    "def plot(counts):\n",
    "    for c in counts:\n",
    "        print(\"+\"*c)\n",
    "plot([3, 5, 8, 9, 4, 4, 2])"
   ]
  },
  {
   "cell_type": "markdown",
   "metadata": {},
   "source": [
    "3\\. Test the function by drawing samples from different probability distributions from the package $\\mathtt{random}$."
   ]
  },
  {
   "cell_type": "code",
   "execution_count": 131,
   "metadata": {},
   "outputs": [
    {
     "name": "stdout",
     "output_type": "stream",
     "text": [
      "\n",
      "+\n",
      "+\n",
      "\n",
      "++\n",
      "++++\n",
      "+\n",
      "++++\n",
      "++++++++\n",
      "++++++++\n",
      "+++++++++++++++\n",
      "++++++++++++++++++++++++++\n",
      "+++++++++++++++++++++++++++\n",
      "+++++++++++++++++++++++++++++++++++\n",
      "++++++++++++++++++++++++++++++++++\n",
      "++++++++++++++++++++++++++++++++++++++++++++++++++++++++\n",
      "++++++++++++++++++++++++++++++++++++++++++++\n",
      "+++++++++++++++++++++++++++++++++++++++++++++++++++++++\n",
      "+++++++++++++++++++++++++++++++++++++++++++++++++++\n",
      "++++++++++++++++++++++++++++++++++++++++++++++++++++++++++++++++++++\n",
      "++++++++++++++++++++++++++++++++++++++++++++++++++++++++++++++++++\n",
      "++++++++++++++++++++++++++++++++++++++++++++++++++++++++++++\n",
      "+++++++++++++++++++++++++++++++++++++++++++++++++++++++++++++++++++++\n",
      "+++++++++++++++++++++++++++++++++++++++++++++++++++++++++++++++++++++++\n",
      "+++++++++++++++++++++++++++++++++++++++++++++++++++++++++\n",
      "++++++++++++++++++++++++++++++++++++++++++++\n",
      "+++++++++++++++++++++++++++++\n",
      "++++++++++++++++++++++++++++++++++++++++++\n",
      "++++++++++++++++++++++++++++++++\n",
      "++++++++++++++++++++++++++++++\n",
      "++++++++++++++++++++++\n",
      "++++++++\n",
      "++++++++\n",
      "+++++\n",
      "++++\n",
      "+++\n",
      "+++++\n",
      "\n",
      "\n",
      "+++++\n"
     ]
    }
   ],
   "source": [
    "data = [random.gauss(0, 1) for i in range(1000)]\n",
    "q, counts = histgram(data, 40)\n",
    "plot(counts)"
   ]
  },
  {
   "cell_type": "markdown",
   "metadata": {},
   "source": [
    "# Word counting"
   ]
  },
  {
   "cell_type": "markdown",
   "metadata": {},
   "source": [
    "*Learned Skills: File input/output*"
   ]
  },
  {
   "cell_type": "markdown",
   "metadata": {},
   "source": [
    "1\\. Create a script that opens a text file for reading and report the number of lines,\n",
    "words and characters. Assume that words are separated by whitespace."
   ]
  },
  {
   "cell_type": "markdown",
   "metadata": {},
   "source": [
    "2\\. Open a text file for writing and save the count in it."
   ]
  },
  {
   "cell_type": "markdown",
   "metadata": {},
   "source": [
    "3\\. Extra: Choose an arbitrary lengthy text (in raw text format) and list the ten most frequently used words. You can use a Dictionary for counting."
   ]
  },
  {
   "cell_type": "markdown",
   "metadata": {},
   "source": [
    "**Useful:** $\\mathtt{string.split()}$ $\\mathtt{open()}$, $\\mathtt{file.read()}$ and $\\mathtt{file.write()}$"
   ]
  },
  {
   "cell_type": "code",
   "execution_count": 161,
   "metadata": {},
   "outputs": [],
   "source": [
    "file = open(\"temp.txt\", \"w\")\n",
    "file.write(\"\"\"1. Create a script that opens a text file for reading and report the number of lines, words and characters. Assume that words are separated by whitespace.\n",
    "2. Open a text file for writing and save the count in it.\n",
    "3. Extra: Choose an arbitrary lengthy text (in raw text format) and list the ten most frequently used words. You can use a Dictionary for counting. \"\"\")\n",
    "file.close()"
   ]
  },
  {
   "cell_type": "code",
   "execution_count": 162,
   "metadata": {},
   "outputs": [],
   "source": [
    "file = open(\"temp.txt\")\n",
    "text = file.read()\n",
    "file.close()"
   ]
  },
  {
   "cell_type": "code",
   "execution_count": 168,
   "metadata": {},
   "outputs": [],
   "source": [
    "nlines = len(text.split(\"\\n\"))\n",
    "nwords = len(text.split(\" \"))"
   ]
  },
  {
   "cell_type": "code",
   "execution_count": 176,
   "metadata": {
    "collapsed": true
   },
   "outputs": [],
   "source": [
    "counts = {}\n",
    "\n",
    "for word in text:\n",
    "    counts[word] = (counts[word] + 1) if (word in counts)  else 0  \n",
    "\n",
    "[key for key, value in sorted(counts.iteritems(), key=lambda (k,v): v, reverse = True)][0:10]"
   ]
  }
 ],
 "metadata": {
  "anaconda-cloud": {},
  "kernelspec": {
   "display_name": "Python 2",
   "language": "python",
   "name": "python2"
  },
  "language_info": {
   "codemirror_mode": {
    "name": "ipython",
    "version": 2
   },
   "file_extension": ".py",
   "mimetype": "text/x-python",
   "name": "python",
   "nbconvert_exporter": "python",
   "pygments_lexer": "ipython2",
   "version": "2.7.13"
  },
  "toc": {
   "colors": {
    "hover_highlight": "#DAA520",
    "running_highlight": "#FF0000",
    "selected_highlight": "#FFD700"
   },
   "moveMenuLeft": true,
   "navigate_menu": false,
   "number_sections": true,
   "sideBar": true,
   "threshold": 4,
   "toc_cell": false,
   "toc_section_display": "block",
   "toc_window_display": false
  }
 },
 "nbformat": 4,
 "nbformat_minor": 1
}
