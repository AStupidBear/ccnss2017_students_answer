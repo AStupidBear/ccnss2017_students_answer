{
 "cells": [
  {
   "cell_type": "markdown",
   "metadata": {},
   "source": [
    "# Introduction "
   ]
  },
  {
   "cell_type": "markdown",
   "metadata": {},
   "source": [
    "We analyze data from a two-alternative forced choice task (e.g. the random-dot-task). In these tasks ambiguous evidence for two alternative choices is presented to an observer. The ambiguity results in imperfect performance, that varies with the strength of the ambiguity. This relationship is quantified by the \"psychometric function\"."
   ]
  },
  {
   "cell_type": "markdown",
   "metadata": {},
   "source": [
    "## Prerequisites"
   ]
  },
  {
   "cell_type": "markdown",
   "metadata": {},
   "source": [
    "- two-alternative forced choice task\n",
    "- the psychometric function relates an observer's performance to the observed stimulus\n",
    "- basic Python skills\n"
   ]
  },
  {
   "cell_type": "markdown",
   "metadata": {},
   "source": [
    "## Objectives"
   ]
  },
  {
   "cell_type": "markdown",
   "metadata": {},
   "source": [
    "- perform elementary data analysis steps on real data\n",
    "- calculate a psychometric function from data"
   ]
  },
  {
   "cell_type": "markdown",
   "metadata": {},
   "source": [
    "## Notes"
   ]
  },
  {
   "cell_type": "markdown",
   "metadata": {},
   "source": [
    "All problems can be solved with either numpy or pandas"
   ]
  },
  {
   "cell_type": "markdown",
   "metadata": {},
   "source": [
    "# Notebook setup "
   ]
  },
  {
   "cell_type": "code",
   "execution_count": 1,
   "metadata": {
    "collapsed": true
   },
   "outputs": [],
   "source": [
    "import numpy as np\n",
    "import scipy as sp\n",
    "import random\n",
    "import matplotlib.pyplot as plt\n",
    "%matplotlib inline"
   ]
  },
  {
   "cell_type": "markdown",
   "metadata": {},
   "source": [
    "# Problem 1: Monkey dot data"
   ]
  },
  {
   "cell_type": "markdown",
   "metadata": {},
   "source": [
    "## Load data"
   ]
  },
  {
   "cell_type": "markdown",
   "metadata": {},
   "source": [
    "** Instruction **\n",
    "\n",
    "Load the data. Note:\n",
    "\n",
    "- Read the data from file 'dots_psychophysics.txt'\n",
    "- Each line is one trial, the columnns encode\n",
    "    - coherence of random dot pattern\n",
    "    - direction of random dot pattern\n",
    "    - the direction the monkey chose\n",
    "    - if the monkey was rewarded\n",
    "    - the monkey's reaction time\n",
    "- direction / choice is encoded as: 1 = 0% coherence, 2 = left, 3 = right\n",
    "- on 0% coherence trials the monkey was rewarded randomly"
   ]
  },
  {
   "cell_type": "code",
   "execution_count": 2,
   "metadata": {},
   "outputs": [
    {
     "name": "stderr",
     "output_type": "stream",
     "text": [
      "/opt/conda/envs/py2/lib/python2.7/site-packages/ipykernel_launcher.py:2: ParserWarning: Falling back to the 'python' engine because the 'c' engine does not support regex separators (separators > 1 char and different from '\\s+' are interpreted as regex); you can avoid this warning by specifying engine='python'.\n",
      "  \n"
     ]
    }
   ],
   "source": [
    "import pandas as pd\n",
    "data = pd.read_csv(\"data/dots_psychophysics.txt\", header = None, delimiter = \"  \")\n",
    "data = data.as_matrix()"
   ]
  },
  {
   "cell_type": "markdown",
   "metadata": {},
   "source": [
    "*** NOTE: ***\n",
    "\n",
    "- direction == 1 encodes 0% coherence stimuli\n",
    "- direction == 2 encodes 'left' stimuli\n",
    "- direction == 3 encodes 'right' stimuli"
   ]
  },
  {
   "cell_type": "markdown",
   "metadata": {},
   "source": [
    "## Consistency check "
   ]
  },
  {
   "cell_type": "markdown",
   "metadata": {},
   "source": [
    "**Instruction**\n",
    "\n",
    "- check that whenever coherence is 0, direction also encodes the 0% stimulus"
   ]
  },
  {
   "cell_type": "code",
   "execution_count": 3,
   "metadata": {},
   "outputs": [
    {
     "data": {
      "text/plain": [
       "True"
      ]
     },
     "execution_count": 3,
     "metadata": {},
     "output_type": "execute_result"
    }
   ],
   "source": [
    "np.all(data[:, 1][data[:, 0] == 0])"
   ]
  },
  {
   "cell_type": "markdown",
   "metadata": {},
   "source": [
    "**Instruction**\n",
    "\n",
    "- what's the distribution of choices when coherence == 0?"
   ]
  },
  {
   "cell_type": "code",
   "execution_count": 4,
   "metadata": {},
   "outputs": [
    {
     "data": {
      "image/png": "[encoded data removed]",
      "text/plain": [
       "<matplotlib.figure.Figure at 0x7fbd46b80790>"
      ]
     },
     "metadata": {},
     "output_type": "display_data"
    }
   ],
   "source": [
    "plt.hist(data[:, 2][data[:, 0] == 0])\n",
    "plt.show()"
   ]
  },
  {
   "cell_type": "markdown",
   "metadata": {},
   "source": [
    "**Instruction**\n",
    "\n",
    "- For non-zero-coherence trials, is it true that whenever direction == choice then rewarded == True?"
   ]
  },
  {
   "cell_type": "code",
   "execution_count": 5,
   "metadata": {},
   "outputs": [
    {
     "name": "stdout",
     "output_type": "stream",
     "text": [
      "False\n"
     ]
    },
    {
     "name": "stderr",
     "output_type": "stream",
     "text": [
      "/opt/conda/envs/py2/lib/python2.7/site-packages/ipykernel_launcher.py:4: VisibleDeprecationWarning: boolean index did not match indexed array along dimension 0; dimension is 49463 but corresponding boolean dimension is 33073\n",
      "  after removing the cwd from sys.path.\n",
      "/opt/conda/envs/py2/lib/python2.7/site-packages/ipykernel_launcher.py:5: VisibleDeprecationWarning: boolean index did not match indexed array along dimension 0; dimension is 49463 but corresponding boolean dimension is 33073\n",
      "  \"\"\"\n"
     ]
    },
    {
     "data": {
      "image/png": "[encoded data removed]",
      "text/plain": [
       "<matplotlib.figure.Figure at 0x7fbd75129750>"
      ]
     },
     "metadata": {},
     "output_type": "display_data"
    }
   ],
   "source": [
    "condition = (data[:, 0] != 0) & (data[:, 1] == data[:, 2])\n",
    "reward = data[condition, 3]\n",
    "print np.all(reward)\n",
    "plt.hist(data[reward == True, 4], label = \"reward\", normed = True, alpha = 0.5)\n",
    "plt.hist(data[reward == False, 4], label= \"no reward\", normed = True, alpha = 0.5)\n",
    "plt.legend()\n",
    "plt.show()"
   ]
  },
  {
   "cell_type": "markdown",
   "metadata": {},
   "source": [
    "* Does this make sense?\n",
    "* Compare the reaction times for non-rewarded trials, in which the monkey chose the stimulus direction to those of other trials"
   ]
  },
  {
   "cell_type": "markdown",
   "metadata": {},
   "source": [
    "## How much data do we have, broken down by direction?"
   ]
  },
  {
   "cell_type": "markdown",
   "metadata": {},
   "source": [
    "** Instruction **\n",
    "\n",
    "Make a bar plot of the number of trials, broken down by stimulus direction and coherence. Don't forget axes labels and a plot title."
   ]
  },
  {
   "cell_type": "code",
   "execution_count": 6,
   "metadata": {
    "scrolled": false
   },
   "outputs": [
    {
     "data": {
      "text/plain": [
       "<matplotlib.text.Text at 0x7fbd3d8fc110>"
      ]
     },
     "execution_count": 6,
     "metadata": {},
     "output_type": "execute_result"
    },
    {
     "data": {
      "image/png": "[encoded data removed]",
      "text/plain": [
       "<matplotlib.figure.Figure at 0x7fbd3d796dd0>"
      ]
     },
     "metadata": {},
     "output_type": "display_data"
    },
    {
     "data": {
      "image/png": "[encoded data removed]",
      "text/plain": [
       "<matplotlib.figure.Figure at 0x7fbd3d721750>"
      ]
     },
     "metadata": {},
     "output_type": "display_data"
    }
   ],
   "source": [
    "plt.hist(data[:, 0])\n",
    "plt.xlabel(\"coherence\")\n",
    "plt.ylabel(\"count\")\n",
    "plt.title(\"coherence\")\n",
    "\n",
    "plt.figure()\n",
    "plt.hist(data[:, 1])\n",
    "plt.xlabel(\"stimulus direction\")\n",
    "plt.ylabel(\"count\")\n",
    "plt.title(\"stimulus direction\")"
   ]
  },
  {
   "cell_type": "markdown",
   "metadata": {},
   "source": [
    "## Psychometric function"
   ]
  },
  {
   "cell_type": "markdown",
   "metadata": {},
   "source": [
    "** Instruction **\n",
    "\n",
    "Plot the psychometric function, i.e. fraction of correct choices vs. coherence\n",
    "\n",
    "- once collapsing all directions\n",
    "- once keeping directions (i.e. plot fraction of right choices for all coherence levels, where for left choices coherence is set to negative values)"
   ]
  },
  {
   "cell_type": "markdown",
   "metadata": {},
   "source": [
    "### Aborted trials\n",
    "\n",
    "Filter out aborted trials, i.e. trials in which the monkey chose the stimulus direction but wasn't rewarded"
   ]
  },
  {
   "cell_type": "code",
   "execution_count": 7,
   "metadata": {},
   "outputs": [],
   "source": [
    "select = (data[:, 1] == data[:, 2]) & (data[:, 3] == False)\n",
    "data = data[~select, :]"
   ]
  },
  {
   "cell_type": "markdown",
   "metadata": {},
   "source": [
    "### Use all directions"
   ]
  },
  {
   "cell_type": "code",
   "execution_count": 8,
   "metadata": {},
   "outputs": [
    {
     "data": {
      "text/plain": [
       "<matplotlib.text.Text at 0x7fbd3d755d10>"
      ]
     },
     "execution_count": 8,
     "metadata": {},
     "output_type": "execute_result"
    },
    {
     "data": {
      "image/png": "[encoded data removed]",
      "text/plain": [
       "<matplotlib.figure.Figure at 0x7fbd3d8b9d90>"
      ]
     },
     "metadata": {},
     "output_type": "display_data"
    }
   ],
   "source": [
    "coh = np.unique(data[:, 0])\n",
    "acc = np.zeros_like(coh)\n",
    "for (i, c) in enumerate(coh):\n",
    "    select = data[:, 0] == c\n",
    "    acc[i] = sum((data[:, 1] == data[:, 2]) & select) / float(sum(select))\n",
    "    \n",
    "plt.plot(coh, acc, \"ko\")\n",
    "plt.xlabel(\"coherence\")\n",
    "plt.ylabel(\"accuracy\")"
   ]
  },
  {
   "cell_type": "markdown",
   "metadata": {},
   "source": [
    "### Use only direction == 'left' and direction == 'right' trials"
   ]
  },
  {
   "cell_type": "code",
   "execution_count": 11,
   "metadata": {
    "scrolled": false
   },
   "outputs": [
    {
     "name": "stderr",
     "output_type": "stream",
     "text": [
      "/opt/conda/envs/py2/lib/python2.7/site-packages/ipykernel_launcher.py:7: RuntimeWarning: invalid value encountered in divide\n",
      "  import sys\n",
      "/opt/conda/envs/py2/lib/python2.7/site-packages/ipykernel_launcher.py:9: RuntimeWarning: invalid value encountered in divide\n",
      "  if __name__ == '__main__':\n"
     ]
    },
    {
     "data": {
      "text/plain": [
       "<matplotlib.legend.Legend at 0x7fbd3d3d15d0>"
      ]
     },
     "execution_count": 11,
     "metadata": {},
     "output_type": "execute_result"
    },
    {
     "data": {
      "image/png": "[encoded data removed]",
      "text/plain": [
       "<matplotlib.figure.Figure at 0x7fbd3d8b9750>"
      ]
     },
     "metadata": {},
     "output_type": "display_data"
    }
   ],
   "source": [
    "coh = np.unique(data[:, 0])\n",
    "acc_left = np.zeros_like(coh)\n",
    "acc_right = np.zeros_like(coh)\n",
    "\n",
    "for (i, c) in enumerate(coh):\n",
    "    select = (data[:, 0] == c) & (data[:, 1] == 2)\n",
    "    acc_left[i] = sum((data[:, 1] == data[:, 2]) & select) / float(sum(select))\n",
    "    select = (data[:, 0] == c) & (data[:, 1] == 3)\n",
    "    acc_right[i] = sum((data[:, 1] == data[:, 2]) & select) / float(sum(select))\n",
    "\n",
    "plt.plot(coh, acc_left, \"ko\", label = \"left\")\n",
    "plt.plot(coh, acc_right, \"co\", label = \"right\")\n",
    "plt.yscale(\"log\")\n",
    "plt.xlabel(\"coherence\")\n",
    "plt.ylabel(\"accuracy\")\n",
    "plt.legend()"
   ]
  },
  {
   "cell_type": "code",
   "execution_count": 10,
   "metadata": {},
   "outputs": [
    {
     "name": "stderr",
     "output_type": "stream",
     "text": [
      "/opt/conda/envs/py2/lib/python2.7/site-packages/matplotlib/axes/_axes.py:545: UserWarning: No labelled objects found. Use label='...' kwarg on individual plots.\n",
      "  warnings.warn(\"No labelled objects found. \"\n"
     ]
    },
    {
     "data": {
      "image/png": "[encoded data removed]",
      "text/plain": [
       "<matplotlib.figure.Figure at 0x7fbd3d8b9990>"
      ]
     },
     "metadata": {},
     "output_type": "display_data"
    }
   ],
   "source": [
    "coh_all = [-coh, coh]\n",
    "acc_all = [acc_left, acc_right]\n",
    "plt.plot(coh_all, acc_all, \"ko\")\n",
    "plt.xlabel(\"coherence\")\n",
    "plt.ylabel(\"accuracy\")\n",
    "plt.legend()"
   ]
  },
  {
   "cell_type": "markdown",
   "metadata": {},
   "source": [
    "# [Small project] Rat odor data"
   ]
  },
  {
   "cell_type": "markdown",
   "metadata": {},
   "source": [
    "## Load data"
   ]
  },
  {
   "cell_type": "markdown",
   "metadata": {},
   "source": [
    "** Instructions **\n",
    "\n",
    "- load the file \"data/odor_psychophysics.csv'\n",
    "- the columns represent: 'rat', 'session', 'direction', 'contrast', 'choice', 'rewarded'\n",
    "- analyze the data\n",
    "- in particular\n",
    "    - plot the psychometric curve for each rat\n",
    "    - plot the mean psychometric curve for all rats including error bars"
   ]
  },
  {
   "cell_type": "code",
   "execution_count": 13,
   "metadata": {
    "collapsed": true
   },
   "outputs": [],
   "source": [
    "data = pd.read_csv(\"data/odor_psychophysics.csv\")"
   ]
  },
  {
   "cell_type": "code",
   "execution_count": 14,
   "metadata": {},
   "outputs": [
    {
     "data": {
      "text/html": [
       "<div>\n",
       "<style>\n",
       "    .dataframe thead tr:only-child th {\n",
       "        text-align: right;\n",
       "    }\n",
       "\n",
       "    .dataframe thead th {\n",
       "        text-align: left;\n",
       "    }\n",
       "\n",
       "    .dataframe tbody tr th {\n",
       "        vertical-align: top;\n",
       "    }\n",
       "</style>\n",
       "<table border=\"1\" class=\"dataframe\">\n",
       "  <thead>\n",
       "    <tr style=\"text-align: right;\">\n",
       "      <th></th>\n",
       "      <th>1</th>\n",
       "      <th>15342</th>\n",
       "      <th>2</th>\n",
       "      <th>0.9</th>\n",
       "      <th>2.1</th>\n",
       "      <th>1.1</th>\n",
       "    </tr>\n",
       "  </thead>\n",
       "  <tbody>\n",
       "    <tr>\n",
       "      <th>0</th>\n",
       "      <td>1</td>\n",
       "      <td>15342</td>\n",
       "      <td>3</td>\n",
       "      <td>0.90</td>\n",
       "      <td>3</td>\n",
       "      <td>1</td>\n",
       "    </tr>\n",
       "    <tr>\n",
       "      <th>1</th>\n",
       "      <td>1</td>\n",
       "      <td>15342</td>\n",
       "      <td>3</td>\n",
       "      <td>0.90</td>\n",
       "      <td>3</td>\n",
       "      <td>1</td>\n",
       "    </tr>\n",
       "    <tr>\n",
       "      <th>2</th>\n",
       "      <td>1</td>\n",
       "      <td>15342</td>\n",
       "      <td>3</td>\n",
       "      <td>0.90</td>\n",
       "      <td>3</td>\n",
       "      <td>1</td>\n",
       "    </tr>\n",
       "    <tr>\n",
       "      <th>3</th>\n",
       "      <td>1</td>\n",
       "      <td>15342</td>\n",
       "      <td>2</td>\n",
       "      <td>0.60</td>\n",
       "      <td>3</td>\n",
       "      <td>0</td>\n",
       "    </tr>\n",
       "    <tr>\n",
       "      <th>4</th>\n",
       "      <td>1</td>\n",
       "      <td>15342</td>\n",
       "      <td>2</td>\n",
       "      <td>0.60</td>\n",
       "      <td>2</td>\n",
       "      <td>1</td>\n",
       "    </tr>\n",
       "    <tr>\n",
       "      <th>5</th>\n",
       "      <td>1</td>\n",
       "      <td>15342</td>\n",
       "      <td>2</td>\n",
       "      <td>0.36</td>\n",
       "      <td>2</td>\n",
       "      <td>1</td>\n",
       "    </tr>\n",
       "    <tr>\n",
       "      <th>6</th>\n",
       "      <td>1</td>\n",
       "      <td>15342</td>\n",
       "      <td>3</td>\n",
       "      <td>0.90</td>\n",
       "      <td>3</td>\n",
       "      <td>1</td>\n",
       "    </tr>\n",
       "    <tr>\n",
       "      <th>7</th>\n",
       "      <td>1</td>\n",
       "      <td>15342</td>\n",
       "      <td>3</td>\n",
       "      <td>0.36</td>\n",
       "      <td>3</td>\n",
       "      <td>1</td>\n",
       "    </tr>\n",
       "    <tr>\n",
       "      <th>8</th>\n",
       "      <td>1</td>\n",
       "      <td>15342</td>\n",
       "      <td>2</td>\n",
       "      <td>0.90</td>\n",
       "      <td>3</td>\n",
       "      <td>0</td>\n",
       "    </tr>\n",
       "    <tr>\n",
       "      <th>9</th>\n",
       "      <td>1</td>\n",
       "      <td>15342</td>\n",
       "      <td>2</td>\n",
       "      <td>0.90</td>\n",
       "      <td>2</td>\n",
       "      <td>1</td>\n",
       "    </tr>\n",
       "    <tr>\n",
       "      <th>10</th>\n",
       "      <td>1</td>\n",
       "      <td>15342</td>\n",
       "      <td>3</td>\n",
       "      <td>0.60</td>\n",
       "      <td>2</td>\n",
       "      <td>0</td>\n",
       "    </tr>\n",
       "    <tr>\n",
       "      <th>11</th>\n",
       "      <td>1</td>\n",
       "      <td>15342</td>\n",
       "      <td>3</td>\n",
       "      <td>0.90</td>\n",
       "      <td>2</td>\n",
       "      <td>0</td>\n",
       "    </tr>\n",
       "    <tr>\n",
       "      <th>12</th>\n",
       "      <td>1</td>\n",
       "      <td>15342</td>\n",
       "      <td>3</td>\n",
       "      <td>0.12</td>\n",
       "      <td>3</td>\n",
       "      <td>1</td>\n",
       "    </tr>\n",
       "    <tr>\n",
       "      <th>13</th>\n",
       "      <td>1</td>\n",
       "      <td>15342</td>\n",
       "      <td>3</td>\n",
       "      <td>0.60</td>\n",
       "      <td>3</td>\n",
       "      <td>1</td>\n",
       "    </tr>\n",
       "    <tr>\n",
       "      <th>14</th>\n",
       "      <td>1</td>\n",
       "      <td>15342</td>\n",
       "      <td>3</td>\n",
       "      <td>0.12</td>\n",
       "      <td>3</td>\n",
       "      <td>1</td>\n",
       "    </tr>\n",
       "    <tr>\n",
       "      <th>15</th>\n",
       "      <td>1</td>\n",
       "      <td>15342</td>\n",
       "      <td>3</td>\n",
       "      <td>0.36</td>\n",
       "      <td>2</td>\n",
       "      <td>0</td>\n",
       "    </tr>\n",
       "    <tr>\n",
       "      <th>16</th>\n",
       "      <td>1</td>\n",
       "      <td>15342</td>\n",
       "      <td>2</td>\n",
       "      <td>0.90</td>\n",
       "      <td>2</td>\n",
       "      <td>1</td>\n",
       "    </tr>\n",
       "    <tr>\n",
       "      <th>17</th>\n",
       "      <td>1</td>\n",
       "      <td>15342</td>\n",
       "      <td>3</td>\n",
       "      <td>0.36</td>\n",
       "      <td>2</td>\n",
       "      <td>0</td>\n",
       "    </tr>\n",
       "    <tr>\n",
       "      <th>18</th>\n",
       "      <td>1</td>\n",
       "      <td>15342</td>\n",
       "      <td>3</td>\n",
       "      <td>0.90</td>\n",
       "      <td>3</td>\n",
       "      <td>1</td>\n",
       "    </tr>\n",
       "    <tr>\n",
       "      <th>19</th>\n",
       "      <td>1</td>\n",
       "      <td>15342</td>\n",
       "      <td>2</td>\n",
       "      <td>0.90</td>\n",
       "      <td>3</td>\n",
       "      <td>0</td>\n",
       "    </tr>\n",
       "    <tr>\n",
       "      <th>20</th>\n",
       "      <td>1</td>\n",
       "      <td>15342</td>\n",
       "      <td>3</td>\n",
       "      <td>0.90</td>\n",
       "      <td>3</td>\n",
       "      <td>1</td>\n",
       "    </tr>\n",
       "    <tr>\n",
       "      <th>21</th>\n",
       "      <td>1</td>\n",
       "      <td>15342</td>\n",
       "      <td>3</td>\n",
       "      <td>0.90</td>\n",
       "      <td>3</td>\n",
       "      <td>1</td>\n",
       "    </tr>\n",
       "    <tr>\n",
       "      <th>22</th>\n",
       "      <td>1</td>\n",
       "      <td>15342</td>\n",
       "      <td>2</td>\n",
       "      <td>0.12</td>\n",
       "      <td>3</td>\n",
       "      <td>0</td>\n",
       "    </tr>\n",
       "    <tr>\n",
       "      <th>23</th>\n",
       "      <td>1</td>\n",
       "      <td>15342</td>\n",
       "      <td>3</td>\n",
       "      <td>0.36</td>\n",
       "      <td>3</td>\n",
       "      <td>1</td>\n",
       "    </tr>\n",
       "    <tr>\n",
       "      <th>24</th>\n",
       "      <td>1</td>\n",
       "      <td>15342</td>\n",
       "      <td>2</td>\n",
       "      <td>0.12</td>\n",
       "      <td>2</td>\n",
       "      <td>1</td>\n",
       "    </tr>\n",
       "    <tr>\n",
       "      <th>25</th>\n",
       "      <td>1</td>\n",
       "      <td>15342</td>\n",
       "      <td>2</td>\n",
       "      <td>0.90</td>\n",
       "      <td>3</td>\n",
       "      <td>0</td>\n",
       "    </tr>\n",
       "    <tr>\n",
       "      <th>26</th>\n",
       "      <td>1</td>\n",
       "      <td>15342</td>\n",
       "      <td>2</td>\n",
       "      <td>0.60</td>\n",
       "      <td>2</td>\n",
       "      <td>1</td>\n",
       "    </tr>\n",
       "    <tr>\n",
       "      <th>27</th>\n",
       "      <td>1</td>\n",
       "      <td>15342</td>\n",
       "      <td>3</td>\n",
       "      <td>0.90</td>\n",
       "      <td>3</td>\n",
       "      <td>1</td>\n",
       "    </tr>\n",
       "    <tr>\n",
       "      <th>28</th>\n",
       "      <td>1</td>\n",
       "      <td>15342</td>\n",
       "      <td>3</td>\n",
       "      <td>0.90</td>\n",
       "      <td>3</td>\n",
       "      <td>1</td>\n",
       "    </tr>\n",
       "    <tr>\n",
       "      <th>29</th>\n",
       "      <td>1</td>\n",
       "      <td>15342</td>\n",
       "      <td>2</td>\n",
       "      <td>0.36</td>\n",
       "      <td>3</td>\n",
       "      <td>0</td>\n",
       "    </tr>\n",
       "    <tr>\n",
       "      <th>...</th>\n",
       "      <td>...</td>\n",
       "      <td>...</td>\n",
       "      <td>...</td>\n",
       "      <td>...</td>\n",
       "      <td>...</td>\n",
       "      <td>...</td>\n",
       "    </tr>\n",
       "    <tr>\n",
       "      <th>261264</th>\n",
       "      <td>8</td>\n",
       "      <td>15247</td>\n",
       "      <td>3</td>\n",
       "      <td>0.12</td>\n",
       "      <td>2</td>\n",
       "      <td>0</td>\n",
       "    </tr>\n",
       "    <tr>\n",
       "      <th>261265</th>\n",
       "      <td>8</td>\n",
       "      <td>15247</td>\n",
       "      <td>2</td>\n",
       "      <td>0.12</td>\n",
       "      <td>2</td>\n",
       "      <td>1</td>\n",
       "    </tr>\n",
       "    <tr>\n",
       "      <th>261266</th>\n",
       "      <td>8</td>\n",
       "      <td>15247</td>\n",
       "      <td>2</td>\n",
       "      <td>0.12</td>\n",
       "      <td>2</td>\n",
       "      <td>1</td>\n",
       "    </tr>\n",
       "    <tr>\n",
       "      <th>261267</th>\n",
       "      <td>8</td>\n",
       "      <td>15247</td>\n",
       "      <td>2</td>\n",
       "      <td>0.12</td>\n",
       "      <td>2</td>\n",
       "      <td>1</td>\n",
       "    </tr>\n",
       "    <tr>\n",
       "      <th>261268</th>\n",
       "      <td>8</td>\n",
       "      <td>15247</td>\n",
       "      <td>3</td>\n",
       "      <td>0.36</td>\n",
       "      <td>3</td>\n",
       "      <td>1</td>\n",
       "    </tr>\n",
       "    <tr>\n",
       "      <th>261269</th>\n",
       "      <td>8</td>\n",
       "      <td>15247</td>\n",
       "      <td>3</td>\n",
       "      <td>0.60</td>\n",
       "      <td>3</td>\n",
       "      <td>1</td>\n",
       "    </tr>\n",
       "    <tr>\n",
       "      <th>261270</th>\n",
       "      <td>8</td>\n",
       "      <td>15247</td>\n",
       "      <td>3</td>\n",
       "      <td>0.60</td>\n",
       "      <td>3</td>\n",
       "      <td>1</td>\n",
       "    </tr>\n",
       "    <tr>\n",
       "      <th>261271</th>\n",
       "      <td>8</td>\n",
       "      <td>15247</td>\n",
       "      <td>2</td>\n",
       "      <td>0.60</td>\n",
       "      <td>2</td>\n",
       "      <td>1</td>\n",
       "    </tr>\n",
       "    <tr>\n",
       "      <th>261272</th>\n",
       "      <td>8</td>\n",
       "      <td>15247</td>\n",
       "      <td>2</td>\n",
       "      <td>0.90</td>\n",
       "      <td>2</td>\n",
       "      <td>1</td>\n",
       "    </tr>\n",
       "    <tr>\n",
       "      <th>261273</th>\n",
       "      <td>8</td>\n",
       "      <td>15247</td>\n",
       "      <td>3</td>\n",
       "      <td>0.90</td>\n",
       "      <td>3</td>\n",
       "      <td>1</td>\n",
       "    </tr>\n",
       "    <tr>\n",
       "      <th>261274</th>\n",
       "      <td>8</td>\n",
       "      <td>15247</td>\n",
       "      <td>2</td>\n",
       "      <td>0.60</td>\n",
       "      <td>2</td>\n",
       "      <td>1</td>\n",
       "    </tr>\n",
       "    <tr>\n",
       "      <th>261275</th>\n",
       "      <td>8</td>\n",
       "      <td>15247</td>\n",
       "      <td>3</td>\n",
       "      <td>0.36</td>\n",
       "      <td>3</td>\n",
       "      <td>1</td>\n",
       "    </tr>\n",
       "    <tr>\n",
       "      <th>261276</th>\n",
       "      <td>8</td>\n",
       "      <td>15247</td>\n",
       "      <td>3</td>\n",
       "      <td>0.60</td>\n",
       "      <td>3</td>\n",
       "      <td>1</td>\n",
       "    </tr>\n",
       "    <tr>\n",
       "      <th>261277</th>\n",
       "      <td>8</td>\n",
       "      <td>15247</td>\n",
       "      <td>3</td>\n",
       "      <td>0.90</td>\n",
       "      <td>3</td>\n",
       "      <td>1</td>\n",
       "    </tr>\n",
       "    <tr>\n",
       "      <th>261278</th>\n",
       "      <td>8</td>\n",
       "      <td>15247</td>\n",
       "      <td>3</td>\n",
       "      <td>0.60</td>\n",
       "      <td>2</td>\n",
       "      <td>0</td>\n",
       "    </tr>\n",
       "    <tr>\n",
       "      <th>261279</th>\n",
       "      <td>8</td>\n",
       "      <td>15247</td>\n",
       "      <td>3</td>\n",
       "      <td>0.36</td>\n",
       "      <td>3</td>\n",
       "      <td>1</td>\n",
       "    </tr>\n",
       "    <tr>\n",
       "      <th>261280</th>\n",
       "      <td>8</td>\n",
       "      <td>15247</td>\n",
       "      <td>3</td>\n",
       "      <td>0.90</td>\n",
       "      <td>3</td>\n",
       "      <td>1</td>\n",
       "    </tr>\n",
       "    <tr>\n",
       "      <th>261281</th>\n",
       "      <td>8</td>\n",
       "      <td>15247</td>\n",
       "      <td>2</td>\n",
       "      <td>0.90</td>\n",
       "      <td>2</td>\n",
       "      <td>1</td>\n",
       "    </tr>\n",
       "    <tr>\n",
       "      <th>261282</th>\n",
       "      <td>8</td>\n",
       "      <td>15247</td>\n",
       "      <td>3</td>\n",
       "      <td>0.90</td>\n",
       "      <td>3</td>\n",
       "      <td>1</td>\n",
       "    </tr>\n",
       "    <tr>\n",
       "      <th>261283</th>\n",
       "      <td>8</td>\n",
       "      <td>15247</td>\n",
       "      <td>3</td>\n",
       "      <td>0.60</td>\n",
       "      <td>3</td>\n",
       "      <td>1</td>\n",
       "    </tr>\n",
       "    <tr>\n",
       "      <th>261284</th>\n",
       "      <td>8</td>\n",
       "      <td>15247</td>\n",
       "      <td>3</td>\n",
       "      <td>0.90</td>\n",
       "      <td>3</td>\n",
       "      <td>1</td>\n",
       "    </tr>\n",
       "    <tr>\n",
       "      <th>261285</th>\n",
       "      <td>8</td>\n",
       "      <td>15247</td>\n",
       "      <td>2</td>\n",
       "      <td>0.60</td>\n",
       "      <td>2</td>\n",
       "      <td>1</td>\n",
       "    </tr>\n",
       "    <tr>\n",
       "      <th>261286</th>\n",
       "      <td>8</td>\n",
       "      <td>15247</td>\n",
       "      <td>3</td>\n",
       "      <td>0.12</td>\n",
       "      <td>2</td>\n",
       "      <td>0</td>\n",
       "    </tr>\n",
       "    <tr>\n",
       "      <th>261287</th>\n",
       "      <td>8</td>\n",
       "      <td>15247</td>\n",
       "      <td>3</td>\n",
       "      <td>0.12</td>\n",
       "      <td>2</td>\n",
       "      <td>0</td>\n",
       "    </tr>\n",
       "    <tr>\n",
       "      <th>261288</th>\n",
       "      <td>8</td>\n",
       "      <td>15247</td>\n",
       "      <td>3</td>\n",
       "      <td>0.60</td>\n",
       "      <td>3</td>\n",
       "      <td>1</td>\n",
       "    </tr>\n",
       "    <tr>\n",
       "      <th>261289</th>\n",
       "      <td>8</td>\n",
       "      <td>15247</td>\n",
       "      <td>2</td>\n",
       "      <td>0.60</td>\n",
       "      <td>2</td>\n",
       "      <td>1</td>\n",
       "    </tr>\n",
       "    <tr>\n",
       "      <th>261290</th>\n",
       "      <td>8</td>\n",
       "      <td>15247</td>\n",
       "      <td>2</td>\n",
       "      <td>0.60</td>\n",
       "      <td>2</td>\n",
       "      <td>1</td>\n",
       "    </tr>\n",
       "    <tr>\n",
       "      <th>261291</th>\n",
       "      <td>8</td>\n",
       "      <td>15247</td>\n",
       "      <td>3</td>\n",
       "      <td>0.36</td>\n",
       "      <td>2</td>\n",
       "      <td>0</td>\n",
       "    </tr>\n",
       "    <tr>\n",
       "      <th>261292</th>\n",
       "      <td>8</td>\n",
       "      <td>15247</td>\n",
       "      <td>2</td>\n",
       "      <td>0.60</td>\n",
       "      <td>2</td>\n",
       "      <td>1</td>\n",
       "    </tr>\n",
       "    <tr>\n",
       "      <th>261293</th>\n",
       "      <td>8</td>\n",
       "      <td>15247</td>\n",
       "      <td>2</td>\n",
       "      <td>0.90</td>\n",
       "      <td>2</td>\n",
       "      <td>0</td>\n",
       "    </tr>\n",
       "  </tbody>\n",
       "</table>\n",
       "<p>261294 rows × 6 columns</p>\n",
       "</div>"
      ],
      "text/plain": [
       "        1  15342  2   0.9  2.1  1.1\n",
       "0       1  15342  3  0.90    3    1\n",
       "1       1  15342  3  0.90    3    1\n",
       "2       1  15342  3  0.90    3    1\n",
       "3       1  15342  2  0.60    3    0\n",
       "4       1  15342  2  0.60    2    1\n",
       "5       1  15342  2  0.36    2    1\n",
       "6       1  15342  3  0.90    3    1\n",
       "7       1  15342  3  0.36    3    1\n",
       "8       1  15342  2  0.90    3    0\n",
       "9       1  15342  2  0.90    2    1\n",
       "10      1  15342  3  0.60    2    0\n",
       "11      1  15342  3  0.90    2    0\n",
       "12      1  15342  3  0.12    3    1\n",
       "13      1  15342  3  0.60    3    1\n",
       "14      1  15342  3  0.12    3    1\n",
       "15      1  15342  3  0.36    2    0\n",
       "16      1  15342  2  0.90    2    1\n",
       "17      1  15342  3  0.36    2    0\n",
       "18      1  15342  3  0.90    3    1\n",
       "19      1  15342  2  0.90    3    0\n",
       "20      1  15342  3  0.90    3    1\n",
       "21      1  15342  3  0.90    3    1\n",
       "22      1  15342  2  0.12    3    0\n",
       "23      1  15342  3  0.36    3    1\n",
       "24      1  15342  2  0.12    2    1\n",
       "25      1  15342  2  0.90    3    0\n",
       "26      1  15342  2  0.60    2    1\n",
       "27      1  15342  3  0.90    3    1\n",
       "28      1  15342  3  0.90    3    1\n",
       "29      1  15342  2  0.36    3    0\n",
       "...    ..    ... ..   ...  ...  ...\n",
       "261264  8  15247  3  0.12    2    0\n",
       "261265  8  15247  2  0.12    2    1\n",
       "261266  8  15247  2  0.12    2    1\n",
       "261267  8  15247  2  0.12    2    1\n",
       "261268  8  15247  3  0.36    3    1\n",
       "261269  8  15247  3  0.60    3    1\n",
       "261270  8  15247  3  0.60    3    1\n",
       "261271  8  15247  2  0.60    2    1\n",
       "261272  8  15247  2  0.90    2    1\n",
       "261273  8  15247  3  0.90    3    1\n",
       "261274  8  15247  2  0.60    2    1\n",
       "261275  8  15247  3  0.36    3    1\n",
       "261276  8  15247  3  0.60    3    1\n",
       "261277  8  15247  3  0.90    3    1\n",
       "261278  8  15247  3  0.60    2    0\n",
       "261279  8  15247  3  0.36    3    1\n",
       "261280  8  15247  3  0.90    3    1\n",
       "261281  8  15247  2  0.90    2    1\n",
       "261282  8  15247  3  0.90    3    1\n",
       "261283  8  15247  3  0.60    3    1\n",
       "261284  8  15247  3  0.90    3    1\n",
       "261285  8  15247  2  0.60    2    1\n",
       "261286  8  15247  3  0.12    2    0\n",
       "261287  8  15247  3  0.12    2    0\n",
       "261288  8  15247  3  0.60    3    1\n",
       "261289  8  15247  2  0.60    2    1\n",
       "261290  8  15247  2  0.60    2    1\n",
       "261291  8  15247  3  0.36    2    0\n",
       "261292  8  15247  2  0.60    2    1\n",
       "261293  8  15247  2  0.90    2    0\n",
       "\n",
       "[261294 rows x 6 columns]"
      ]
     },
     "execution_count": 14,
     "metadata": {},
     "output_type": "execute_result"
    }
   ],
   "source": [
    "data"
   ]
  },
  {
   "cell_type": "code",
   "execution_count": 17,
   "metadata": {},
   "outputs": [
    {
     "data": {
      "text/plain": [
       "array([[  1.00000000e+00,   1.53420000e+04,   3.00000000e+00,\n",
       "          9.00000000e-01,   3.00000000e+00,   1.00000000e+00],\n",
       "       [  1.00000000e+00,   1.53420000e+04,   3.00000000e+00,\n",
       "          9.00000000e-01,   3.00000000e+00,   1.00000000e+00],\n",
       "       [  1.00000000e+00,   1.53420000e+04,   3.00000000e+00,\n",
       "          9.00000000e-01,   3.00000000e+00,   1.00000000e+00],\n",
       "       ..., \n",
       "       [  8.00000000e+00,   1.52470000e+04,   3.00000000e+00,\n",
       "          3.60000000e-01,   2.00000000e+00,   0.00000000e+00],\n",
       "       [  8.00000000e+00,   1.52470000e+04,   2.00000000e+00,\n",
       "          6.00000000e-01,   2.00000000e+00,   1.00000000e+00],\n",
       "       [  8.00000000e+00,   1.52470000e+04,   2.00000000e+00,\n",
       "          9.00000000e-01,   2.00000000e+00,   0.00000000e+00]])"
      ]
     },
     "execution_count": 17,
     "metadata": {},
     "output_type": "execute_result"
    }
   ],
   "source": [
    "data.values"
   ]
  },
  {
   "cell_type": "code",
   "execution_count": null,
   "metadata": {
    "collapsed": true
   },
   "outputs": [],
   "source": []
  }
 ],
 "metadata": {
  "anaconda-cloud": {},
  "kernelspec": {
   "display_name": "Python 2",
   "language": "python",
   "name": "python2"
  },
  "language_info": {
   "codemirror_mode": {
    "name": "ipython",
    "version": 2
   },
   "file_extension": ".py",
   "mimetype": "text/x-python",
   "name": "python",
   "nbconvert_exporter": "python",
   "pygments_lexer": "ipython2",
   "version": "2.7.13"
  },
  "toc": {
   "colors": {
    "hover_highlight": "#DAA520",
    "running_highlight": "#FF0000",
    "selected_highlight": "#FFD700"
   },
   "moveMenuLeft": true,
   "navigate_menu": false,
   "number_sections": true,
   "sideBar": true,
   "threshold": 4,
   "toc_cell": false,
   "toc_section_display": "block",
   "toc_window_display": true
  }
 },
 "nbformat": 4,
 "nbformat_minor": 2
}
