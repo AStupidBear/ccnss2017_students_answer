{
 "cells": [
  {
   "cell_type": "markdown",
   "metadata": {},
   "source": [
    "# Introduction "
   ]
  },
  {
   "cell_type": "markdown",
   "metadata": {},
   "source": [
    "Signal detection theory is a means to quantify the ability to differentiate between valid information (signal) and noise. This is done by defining a boundary (or threshold) that separates signal from noise. When the threshold is set very low noise might inadvertently be classified as signal (i.e. many false positives (FP)). Vice versa, when the threshold is set very high signal might be classied as noise (many false negatives, FN)). Systematically varying the threshold provides a global view on how discriminable signal and noise are."
   ]
  },
  {
   "cell_type": "markdown",
   "metadata": {},
   "source": [
    "![title](fig/roc.png)"
   ]
  },
  {
   "cell_type": "markdown",
   "metadata": {},
   "source": [
    "https://en.wikipedia.org/wiki/Receiver_operating_characteristic"
   ]
  },
  {
   "cell_type": "markdown",
   "metadata": {},
   "source": [
    "## Prerequisites"
   ]
  },
  {
   "cell_type": "markdown",
   "metadata": {},
   "source": [
    "- $d' = (\\mu_S - \\mu_N) / \\sigma$ quantifies how far two normal distributions with means $\\mu_S$ and $\\mu_N$ and common standard deviation $\\sigma$ are apart\n",
    "- ROC analysis\n",
    "- basic Python skills"
   ]
  },
  {
   "cell_type": "markdown",
   "metadata": {},
   "source": [
    "## Objectives"
   ]
  },
  {
   "cell_type": "markdown",
   "metadata": {},
   "source": [
    "- practice ROC analysis on mock data\n",
    "- use random distributions in Python\n",
    "- visualize data in Python\n",
    "- beautify figures in Python"
   ]
  },
  {
   "cell_type": "markdown",
   "metadata": {},
   "source": [
    "# Notebook setup"
   ]
  },
  {
   "cell_type": "markdown",
   "metadata": {},
   "source": [
    "** Instructions **\n",
    "- Import numpy, scipy, and matplotlib\n",
    "- configure inline plots"
   ]
  },
  {
   "cell_type": "code",
   "execution_count": 148,
   "metadata": {
    "collapsed": true
   },
   "outputs": [],
   "source": [
    "import numpy as np\n",
    "import scipy as sp\n",
    "import random\n",
    "import matplotlib.pyplot as plt\n",
    "%matplotlib inline"
   ]
  },
  {
   "cell_type": "markdown",
   "metadata": {},
   "source": [
    "As you go along, return here and add any additional module that is needed"
   ]
  },
  {
   "cell_type": "markdown",
   "metadata": {},
   "source": [
    "# Problem 1: Normal distributions"
   ]
  },
  {
   "cell_type": "markdown",
   "metadata": {},
   "source": [
    "** Instructions **\n",
    "- Draw 10000 samples each from 2 normal distributions (hint: np.random.normal) with different means and standard deviations\n",
    "- Plot histograms of the two distributions in one plot (hint: plt.hist; experiment with parameters bins, normed, histtype, color, alpha, linewidth, label)\n",
    "- Also plot the probability density function of the two distributions in the same plot\n",
    "- Add a legend to the plot (hint: plt.legend; if necessary consider the parameter 'loc')\n",
    "- Add a vertical line representing the decision criterion (hint: plt.axvline)"
   ]
  },
  {
   "cell_type": "code",
   "execution_count": 34,
   "metadata": {},
   "outputs": [],
   "source": [
    "import scipy.stats as stats"
   ]
  },
  {
   "cell_type": "code",
   "execution_count": 43,
   "metadata": {},
   "outputs": [
    {
     "data": {
      "text/plain": [
       "<matplotlib.legend.Legend at 0x7f6753173a90>"
      ]
     },
     "execution_count": 43,
     "metadata": {},
     "output_type": "execute_result"
    },
    {
     "data": {
      "image/png": "[encoded data removed]",
      "text/plain": [
       "<matplotlib.figure.Figure at 0x7f675358dc90>"
      ]
     },
     "metadata": {},
     "output_type": "display_data"
    }
   ],
   "source": [
    "x = np.linspace(-8, 8, 100)\n",
    "s_pdf = stats.norm.pdf(x, loc = 1, scale = 2)\n",
    "s = np.random.normal(loc = +1, scale = 2, size = 10000)\n",
    "n_pdf = stats.norm.pdf(x, loc = -1, scale = 1)\n",
    "n = np.random.normal(loc = -1, scale = 1, size = 10000)\n",
    "plt.hist(s, bins = 100, normed = True, histtype = \"stepfilled\" , alpha = 1, label = \"signal\")\n",
    "plt.hist(n, bins = 100, normed = True, histtype = \"stepfilled\", alpha = 1, label = \"noise\")\n",
    "plt.plot(x, s_pdf, label = \"signal_pdf\")\n",
    "plt.plot(x, n_pdf, label = \"noise_pdf\")\n",
    "plt.axvline(0, color = \"black\")\n",
    "plt.legend(loc = \"best\")"
   ]
  },
  {
   "cell_type": "markdown",
   "metadata": {},
   "source": [
    "# Problem 2: ROC analysis "
   ]
  },
  {
   "cell_type": "markdown",
   "metadata": {},
   "source": [
    "** Instructions **\n",
    "- Draw samples from a normal distribution with mean 10 and std 2.5\n",
    "- Draw samples from another normal distribution with std 2.5\n",
    "- Vary the mean of the second distribution from 11 to 19 in steps of 2\n",
    "- For each value of the second mean calculate an ROC curve (i.e. true positive rate vs. false positive rate, for a varying decision criterion) and plot all ROC curves in the same plot as dots\n",
    "- For each value of the second mean also calculate the ROC curve based on the normal pdf (instead of: samples from the pdf) and plot as lines. (hint: scipy.stats.norm.cdf, scipy.stats.norm.sf)\n",
    "- For each value of the second mean calculate d'\n",
    "- add axes labels, title and a legend to the plot\n",
    "- How does the plot change depending on the number of samples drawn from the distributions? Also consider a different number of noise and signal samples.\n",
    "\n",
    "** Possibly helpful numpy functions **\n",
    "- np.min, np.max, np.linspace, np.arange, np.zeros, np.zeros_like, np.mean"
   ]
  },
  {
   "cell_type": "code",
   "execution_count": 154,
   "metadata": {
    "collapsed": true
   },
   "outputs": [],
   "source": [
    "def ROC(s, n, m):\n",
    "    xmin, xmax = min(np.min(s), np.min(n)), max(np.max(s), np.max(n))\n",
    "    TP, FP = np.zeros(100), np.zeros(100)\n",
    "    for (i, criterion) in enumerate(np.linspace(xmin, xmax, 100)):\n",
    "        TP[i] = np.mean(s > criterion)\n",
    "        FP[i] = np.mean(n > criterion)\n",
    "    plt.plot(FP, TP, \"o\", color = np.random.rand(3,), label = m) "
   ]
  },
  {
   "cell_type": "code",
   "execution_count": 161,
   "metadata": {},
   "outputs": [],
   "source": [
    "def ROC_pdf(s, n, mu_signal, mu_noise, scale):\n",
    "    xmin, xmax = min(np.min(s), np.min(n)), max(np.max(s), np.max(n))\n",
    "    TP, FP = np.zeros(100), np.zeros(100)\n",
    "    for (i, criterion) in enumerate(np.linspace(xmin, xmax, 100)):\n",
    "        TP[i] = 1 - stats.norm.cdf(criterion, loc = mu_signal, scale = scale)\n",
    "        FP[i] = 1 - stats.norm.cdf(criterion, loc = mu_noise, scale = scale)\n",
    "    plt.plot(FP, TP, \"o\", color = np.random.rand(3,), label = m) "
   ]
  },
  {
   "cell_type": "code",
   "execution_count": 162,
   "metadata": {},
   "outputs": [
    {
     "name": "stdout",
     "output_type": "stream",
     "text": [
      "d' = 0.4\n",
      "d' = 1.2\n",
      "d' = 2\n",
      "d' = 2.8\n"
     ]
    },
    {
     "data": {
      "text/plain": [
       "<matplotlib.text.Text at 0x7f674ef37650>"
      ]
     },
     "execution_count": 162,
     "metadata": {},
     "output_type": "execute_result"
    },
    {
     "data": {
      "image/png": "[encoded data removed]",
      "text/plain": [
       "<matplotlib.figure.Figure at 0x7f674f088d50>"
      ]
     },
     "metadata": {},
     "output_type": "display_data"
    }
   ],
   "source": [
    "n = np.random.normal(loc = 10, scale = 2.5, size = 10000)\n",
    "for m in np.arange(11, 19, 2):\n",
    "    s = np.random.normal(loc = m, scale = 2.5, size = 10000)\n",
    "    ROC(s, n, m)\n",
    "    d_prime = (m - 10) / 2.5\n",
    "    print(\"d' = %g\" % d_prime)\n",
    "\n",
    "plt.xlabel(\"FP\")\n",
    "plt.ylabel(\"TP\")\n",
    "plt.legend()\n",
    "plt.title(\"ROC Curve\")"
   ]
  },
  {
   "cell_type": "code",
   "execution_count": 163,
   "metadata": {},
   "outputs": [
    {
     "data": {
      "text/plain": [
       "<matplotlib.text.Text at 0x7f674ee19cd0>"
      ]
     },
     "execution_count": 163,
     "metadata": {},
     "output_type": "execute_result"
    },
    {
     "data": {
      "image/png": "[encoded data removed]",
      "text/plain": [
       "<matplotlib.figure.Figure at 0x7f674f6d21d0>"
      ]
     },
     "metadata": {},
     "output_type": "display_data"
    }
   ],
   "source": [
    "n = np.random.normal(loc = 10, scale = 2.5, size = 10000)\n",
    "for m in np.arange(11, 19, 2):\n",
    "    s = np.random.normal(loc = m, scale = 2.5, size = 10000)\n",
    "    ROC_pdf(s, n, m, 10, 2.5)\n",
    "\n",
    "plt.xlabel(\"FP\")\n",
    "plt.ylabel(\"TP\")\n",
    "plt.legend()\n",
    "plt.title(\"ROC Curve\")"
   ]
  },
  {
   "cell_type": "code",
   "execution_count": null,
   "metadata": {
    "collapsed": true
   },
   "outputs": [],
   "source": []
  }
 ],
 "metadata": {
  "anaconda-cloud": {},
  "kernelspec": {
   "display_name": "Python 2",
   "language": "python",
   "name": "python2"
  },
  "language_info": {
   "codemirror_mode": {
    "name": "ipython",
    "version": 2
   },
   "file_extension": ".py",
   "mimetype": "text/x-python",
   "name": "python",
   "nbconvert_exporter": "python",
   "pygments_lexer": "ipython2",
   "version": "2.7.13"
  },
  "toc": {
   "colors": {
    "hover_highlight": "#DAA520",
    "running_highlight": "#FF0000",
    "selected_highlight": "#FFD700"
   },
   "moveMenuLeft": true,
   "navigate_menu": false,
   "number_sections": true,
   "sideBar": true,
   "threshold": 4,
   "toc_cell": false,
   "toc_section_display": "block",
   "toc_window_display": true
  }
 },
 "nbformat": 4,
 "nbformat_minor": 1
}
